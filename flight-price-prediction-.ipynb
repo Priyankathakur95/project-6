{
 "cells": [
  {
   "cell_type": "code",
   "execution_count": 1,
   "id": "3c59cf15",
   "metadata": {
    "execution": {
     "iopub.execute_input": "2022-01-23T00:01:34.022214Z",
     "iopub.status.busy": "2022-01-23T00:01:34.021573Z",
     "iopub.status.idle": "2022-01-23T00:01:35.044781Z",
     "shell.execute_reply": "2022-01-23T00:01:35.045350Z"
    },
    "papermill": {
     "duration": 1.097356,
     "end_time": "2022-01-23T00:01:35.045638",
     "exception": false,
     "start_time": "2022-01-23T00:01:33.948282",
     "status": "completed"
    },
    "tags": []
   },
   "outputs": [],
   "source": [
    "import numpy as np    \n",
    "import pandas as pd   \n",
    "\n",
    " \n",
    "import matplotlib.pyplot as plt\n",
    "import seaborn as sns\n",
    "sns.set()\n",
    "\n",
    " \n",
    "from numpy.random import seed\n",
    "seed(1)\n",
    "\n",
    " \n",
    "pd.set_option(\"display.max_rows\", 500)\n",
    "pd.set_option(\"display.max_columns\", 500)"
   ]
  },
  {
   "cell_type": "code",
   "execution_count": 2,
   "id": "a98eb98c",
   "metadata": {
    "execution": {
     "iopub.execute_input": "2022-01-23T00:01:35.181122Z",
     "iopub.status.busy": "2022-01-23T00:01:35.180454Z",
     "iopub.status.idle": "2022-01-23T00:01:45.193308Z",
     "shell.execute_reply": "2022-01-23T00:01:45.192733Z"
    },
    "papermill": {
     "duration": 10.080284,
     "end_time": "2022-01-23T00:01:45.193454",
     "exception": false,
     "start_time": "2022-01-23T00:01:35.113170",
     "status": "completed"
    },
    "tags": []
   },
   "outputs": [
    {
     "name": "stdout",
     "output_type": "stream",
     "text": [
      "Collecting xgboost\n",
      "  Downloading xgboost-1.5.2-py3-none-win_amd64.whl (106.6 MB)\n",
      "Requirement already satisfied: numpy in c:\\programdata\\anaconda3\\lib\\site-packages (from xgboost) (1.20.1)\n",
      "Requirement already satisfied: scipy in c:\\programdata\\anaconda3\\lib\\site-packages (from xgboost) (1.6.2)\n",
      "Installing collected packages: xgboost\n",
      "Successfully installed xgboost-1.5.2\n"
     ]
    }
   ],
   "source": [
    "!pip install xgboost"
   ]
  },
  {
   "cell_type": "code",
   "execution_count": 3,
   "id": "e229ad36",
   "metadata": {
    "execution": {
     "iopub.execute_input": "2022-01-23T00:01:45.609050Z",
     "iopub.status.busy": "2022-01-23T00:01:45.608180Z",
     "iopub.status.idle": "2022-01-23T00:01:47.412706Z",
     "shell.execute_reply": "2022-01-23T00:01:47.413231Z",
     "shell.execute_reply.started": "2022-01-22T23:34:29.903658Z"
    },
    "papermill": {
     "duration": 1.877909,
     "end_time": "2022-01-23T00:01:47.413402",
     "exception": false,
     "start_time": "2022-01-23T00:01:45.535493",
     "status": "completed"
    },
    "tags": []
   },
   "outputs": [],
   "source": [
    "train = pd.read_excel(r'C:\\Users\\admin\\Desktop\\flight\\Data_Train.xlsx')"
   ]
  },
  {
   "cell_type": "code",
   "execution_count": 4,
   "id": "7db0a8b5",
   "metadata": {
    "execution": {
     "iopub.execute_input": "2022-01-23T00:01:47.694445Z",
     "iopub.status.busy": "2022-01-23T00:01:47.693761Z",
     "iopub.status.idle": "2022-01-23T00:01:47.711482Z",
     "shell.execute_reply": "2022-01-23T00:01:47.711971Z",
     "shell.execute_reply.started": "2022-01-22T23:34:33.878356Z"
    },
    "papermill": {
     "duration": 0.095767,
     "end_time": "2022-01-23T00:01:47.712149",
     "exception": false,
     "start_time": "2022-01-23T00:01:47.616382",
     "status": "completed"
    },
    "tags": []
   },
   "outputs": [
    {
     "data": {
      "text/html": [
       "<div>\n",
       "<style scoped>\n",
       "    .dataframe tbody tr th:only-of-type {\n",
       "        vertical-align: middle;\n",
       "    }\n",
       "\n",
       "    .dataframe tbody tr th {\n",
       "        vertical-align: top;\n",
       "    }\n",
       "\n",
       "    .dataframe thead th {\n",
       "        text-align: right;\n",
       "    }\n",
       "</style>\n",
       "<table border=\"1\" class=\"dataframe\">\n",
       "  <thead>\n",
       "    <tr style=\"text-align: right;\">\n",
       "      <th></th>\n",
       "      <th>Airline</th>\n",
       "      <th>Date_of_Journey</th>\n",
       "      <th>Source</th>\n",
       "      <th>Destination</th>\n",
       "      <th>Route</th>\n",
       "      <th>Dep_Time</th>\n",
       "      <th>Arrival_Time</th>\n",
       "      <th>Duration</th>\n",
       "      <th>Total_Stops</th>\n",
       "      <th>Additional_Info</th>\n",
       "      <th>Price</th>\n",
       "    </tr>\n",
       "  </thead>\n",
       "  <tbody>\n",
       "    <tr>\n",
       "      <th>0</th>\n",
       "      <td>IndiGo</td>\n",
       "      <td>24/03/2019</td>\n",
       "      <td>Banglore</td>\n",
       "      <td>New Delhi</td>\n",
       "      <td>BLR → DEL</td>\n",
       "      <td>22:20</td>\n",
       "      <td>01:10 22 Mar</td>\n",
       "      <td>2h 50m</td>\n",
       "      <td>non-stop</td>\n",
       "      <td>No info</td>\n",
       "      <td>3897</td>\n",
       "    </tr>\n",
       "    <tr>\n",
       "      <th>1</th>\n",
       "      <td>Air India</td>\n",
       "      <td>1/05/2019</td>\n",
       "      <td>Kolkata</td>\n",
       "      <td>Banglore</td>\n",
       "      <td>CCU → IXR → BBI → BLR</td>\n",
       "      <td>05:50</td>\n",
       "      <td>13:15</td>\n",
       "      <td>7h 25m</td>\n",
       "      <td>2 stops</td>\n",
       "      <td>No info</td>\n",
       "      <td>7662</td>\n",
       "    </tr>\n",
       "    <tr>\n",
       "      <th>2</th>\n",
       "      <td>Jet Airways</td>\n",
       "      <td>9/06/2019</td>\n",
       "      <td>Delhi</td>\n",
       "      <td>Cochin</td>\n",
       "      <td>DEL → LKO → BOM → COK</td>\n",
       "      <td>09:25</td>\n",
       "      <td>04:25 10 Jun</td>\n",
       "      <td>19h</td>\n",
       "      <td>2 stops</td>\n",
       "      <td>No info</td>\n",
       "      <td>13882</td>\n",
       "    </tr>\n",
       "    <tr>\n",
       "      <th>3</th>\n",
       "      <td>IndiGo</td>\n",
       "      <td>12/05/2019</td>\n",
       "      <td>Kolkata</td>\n",
       "      <td>Banglore</td>\n",
       "      <td>CCU → NAG → BLR</td>\n",
       "      <td>18:05</td>\n",
       "      <td>23:30</td>\n",
       "      <td>5h 25m</td>\n",
       "      <td>1 stop</td>\n",
       "      <td>No info</td>\n",
       "      <td>6218</td>\n",
       "    </tr>\n",
       "    <tr>\n",
       "      <th>4</th>\n",
       "      <td>IndiGo</td>\n",
       "      <td>01/03/2019</td>\n",
       "      <td>Banglore</td>\n",
       "      <td>New Delhi</td>\n",
       "      <td>BLR → NAG → DEL</td>\n",
       "      <td>16:50</td>\n",
       "      <td>21:35</td>\n",
       "      <td>4h 45m</td>\n",
       "      <td>1 stop</td>\n",
       "      <td>No info</td>\n",
       "      <td>13302</td>\n",
       "    </tr>\n",
       "  </tbody>\n",
       "</table>\n",
       "</div>"
      ],
      "text/plain": [
       "       Airline Date_of_Journey    Source Destination                  Route  \\\n",
       "0       IndiGo      24/03/2019  Banglore   New Delhi              BLR → DEL   \n",
       "1    Air India       1/05/2019   Kolkata    Banglore  CCU → IXR → BBI → BLR   \n",
       "2  Jet Airways       9/06/2019     Delhi      Cochin  DEL → LKO → BOM → COK   \n",
       "3       IndiGo      12/05/2019   Kolkata    Banglore        CCU → NAG → BLR   \n",
       "4       IndiGo      01/03/2019  Banglore   New Delhi        BLR → NAG → DEL   \n",
       "\n",
       "  Dep_Time  Arrival_Time Duration Total_Stops Additional_Info  Price  \n",
       "0    22:20  01:10 22 Mar   2h 50m    non-stop         No info   3897  \n",
       "1    05:50         13:15   7h 25m     2 stops         No info   7662  \n",
       "2    09:25  04:25 10 Jun      19h     2 stops         No info  13882  \n",
       "3    18:05         23:30   5h 25m      1 stop         No info   6218  \n",
       "4    16:50         21:35   4h 45m      1 stop         No info  13302  "
      ]
     },
     "execution_count": 4,
     "metadata": {},
     "output_type": "execute_result"
    }
   ],
   "source": [
    "train.head()"
   ]
  },
  {
   "cell_type": "code",
   "execution_count": 5,
   "id": "246df943",
   "metadata": {
    "execution": {
     "iopub.execute_input": "2022-01-23T00:01:47.998028Z",
     "iopub.status.busy": "2022-01-23T00:01:47.988798Z",
     "iopub.status.idle": "2022-01-23T00:01:48.017433Z",
     "shell.execute_reply": "2022-01-23T00:01:48.018180Z",
     "shell.execute_reply.started": "2022-01-22T23:34:33.954413Z"
    },
    "papermill": {
     "duration": 0.101079,
     "end_time": "2022-01-23T00:01:48.018414",
     "exception": false,
     "start_time": "2022-01-23T00:01:47.917335",
     "status": "completed"
    },
    "tags": []
   },
   "outputs": [
    {
     "name": "stdout",
     "output_type": "stream",
     "text": [
      "<class 'pandas.core.frame.DataFrame'>\n",
      "RangeIndex: 10683 entries, 0 to 10682\n",
      "Data columns (total 11 columns):\n",
      " #   Column           Non-Null Count  Dtype \n",
      "---  ------           --------------  ----- \n",
      " 0   Airline          10683 non-null  object\n",
      " 1   Date_of_Journey  10683 non-null  object\n",
      " 2   Source           10683 non-null  object\n",
      " 3   Destination      10683 non-null  object\n",
      " 4   Route            10682 non-null  object\n",
      " 5   Dep_Time         10683 non-null  object\n",
      " 6   Arrival_Time     10683 non-null  object\n",
      " 7   Duration         10683 non-null  object\n",
      " 8   Total_Stops      10682 non-null  object\n",
      " 9   Additional_Info  10683 non-null  object\n",
      " 10  Price            10683 non-null  int64 \n",
      "dtypes: int64(1), object(10)\n",
      "memory usage: 918.2+ KB\n"
     ]
    }
   ],
   "source": [
    "train.info()"
   ]
  },
  {
   "cell_type": "code",
   "execution_count": 6,
   "id": "5dad1226",
   "metadata": {
    "_kg_hide-output": true,
    "execution": {
     "iopub.execute_input": "2022-01-23T00:01:48.295801Z",
     "iopub.status.busy": "2022-01-23T00:01:48.294819Z",
     "iopub.status.idle": "2022-01-23T00:01:48.305404Z",
     "shell.execute_reply": "2022-01-23T00:01:48.305832Z",
     "shell.execute_reply.started": "2022-01-22T23:34:34.009957Z"
    },
    "papermill": {
     "duration": 0.08318,
     "end_time": "2022-01-23T00:01:48.306008",
     "exception": false,
     "start_time": "2022-01-23T00:01:48.222828",
     "status": "completed"
    },
    "tags": []
   },
   "outputs": [
    {
     "data": {
      "text/plain": [
       "2h 50m     550\n",
       "1h 30m     386\n",
       "2h 55m     337\n",
       "2h 45m     337\n",
       "2h 35m     329\n",
       "3h         261\n",
       "2h 20m     238\n",
       "2h 30m     220\n",
       "2h 40m     158\n",
       "1h 25m     135\n",
       "2h 15m     135\n",
       "2h 25m      98\n",
       "13h 30m     97\n",
       "13h 20m     89\n",
       "3h 15m      88\n",
       "7h 30m      86\n",
       "9h 30m      85\n",
       "8h 40m      81\n",
       "7h 15m      79\n",
       "3h 5m       78\n",
       "5h 30m      72\n",
       "7h 35m      71\n",
       "8h          68\n",
       "7h 5m       65\n",
       "9h          64\n",
       "9h 50m      64\n",
       "5h          63\n",
       "5h 15m      62\n",
       "11h         62\n",
       "11h 45m     62\n",
       "14h 25m     61\n",
       "1h 20m      61\n",
       "6h 35m      60\n",
       "10h 30m     57\n",
       "22h 55m     57\n",
       "12h 10m     57\n",
       "12h 45m     56\n",
       "5h 45m      54\n",
       "16h 5m      53\n",
       "7h 20m      52\n",
       "11h 30m     52\n",
       "12h 30m     52\n",
       "15h 10m     51\n",
       "4h 55m      51\n",
       "8h 25m      50\n",
       "10h 15m     50\n",
       "12h         49\n",
       "10h         49\n",
       "10h 25m     49\n",
       "12h 15m     48\n",
       "6h 15m      47\n",
       "5h 20m      45\n",
       "11h 5m      45\n",
       "26h 55m     44\n",
       "13h         42\n",
       "9h 15m      42\n",
       "14h 5m      42\n",
       "8h 55m      42\n",
       "20h 10m     41\n",
       "9h 20m      41\n",
       "9h 35m      41\n",
       "17h 5m      40\n",
       "3h 10m      40\n",
       "23h 40m     40\n",
       "26h 35m     39\n",
       "21h 15m     39\n",
       "27h 35m     38\n",
       "14h 35m     38\n",
       "6h 30m      38\n",
       "5h 5m       38\n",
       "6h 25m      37\n",
       "23h 50m     37\n",
       "8h 30m      36\n",
       "13h 25m     36\n",
       "14h         36\n",
       "11h 15m     36\n",
       "18h 45m     36\n",
       "13h 15m     36\n",
       "12h 25m     36\n",
       "15h 25m     35\n",
       "4h 30m      35\n",
       "15h 20m     35\n",
       "21h 35m     35\n",
       "25h 45m     35\n",
       "4h 50m      35\n",
       "13h 50m     35\n",
       "8h 20m      34\n",
       "27h 20m     34\n",
       "16h 45m     33\n",
       "15h 30m     33\n",
       "18h 20m     33\n",
       "27h         32\n",
       "5h 25m      31\n",
       "7h 45m      31\n",
       "14h 20m     31\n",
       "12h 20m     31\n",
       "12h 35m     31\n",
       "21h 25m     30\n",
       "15h         30\n",
       "5h 55m      30\n",
       "8h 10m      30\n",
       "23h 30m     30\n",
       "24h 45m     30\n",
       "23h 15m     30\n",
       "6h 20m      29\n",
       "10h 20m     29\n",
       "14h 30m     29\n",
       "26h 20m     29\n",
       "26h 10m     29\n",
       "6h 5m       29\n",
       "10h 40m     29\n",
       "9h 5m       29\n",
       "19h 55m     28\n",
       "16h 15m     28\n",
       "13h 55m     28\n",
       "9h 45m      28\n",
       "29h 20m     28\n",
       "22h         27\n",
       "5h 10m      27\n",
       "24h         27\n",
       "7h 40m      27\n",
       "26h         27\n",
       "19h 25m     26\n",
       "14h 55m     26\n",
       "12h 55m     26\n",
       "9h 10m      26\n",
       "6h          26\n",
       "8h 35m      25\n",
       "5h 35m      25\n",
       "28h 50m     25\n",
       "6h 10m      25\n",
       "22h 5m      25\n",
       "23h         24\n",
       "11h 25m     24\n",
       "1h 15m      24\n",
       "7h 50m      24\n",
       "16h 50m     24\n",
       "7h 55m      24\n",
       "24h 55m     24\n",
       "15h 40m     24\n",
       "6h 40m      23\n",
       "3h 40m      23\n",
       "23h 35m     23\n",
       "24h 35m     23\n",
       "11h 50m     23\n",
       "10h 10m     23\n",
       "4h 40m      23\n",
       "22h 30m     22\n",
       "16h 55m     22\n",
       "20h         22\n",
       "22h 45m     22\n",
       "28h 20m     22\n",
       "24h 50m     22\n",
       "23h 10m     22\n",
       "4h 35m      21\n",
       "5h 40m      21\n",
       "14h 50m     21\n",
       "20h 55m     21\n",
       "23h 45m     21\n",
       "27h 5m      21\n",
       "11h 55m     21\n",
       "7h          21\n",
       "13h 45m     21\n",
       "25h 30m     21\n",
       "24h 30m     20\n",
       "11h 40m     20\n",
       "12h 40m     20\n",
       "17h 25m     20\n",
       "25h 50m     20\n",
       "10h 55m     20\n",
       "8h 15m      20\n",
       "16h         19\n",
       "21h 20m     19\n",
       "25h 55m     19\n",
       "12h 5m      19\n",
       "26h 50m     19\n",
       "15h 55m     19\n",
       "4h 25m      19\n",
       "20h 20m     19\n",
       "14h 45m     19\n",
       "21h 40m     18\n",
       "22h 10m     18\n",
       "18h 10m     17\n",
       "18h 25m     17\n",
       "22h 15m     17\n",
       "8h 5m       17\n",
       "10h 35m     17\n",
       "24h 40m     17\n",
       "20h 15m     17\n",
       "6h 55m      17\n",
       "27h 10m     17\n",
       "25h 20m     17\n",
       "16h 10m     16\n",
       "24h 10m     16\n",
       "20h 25m     16\n",
       "26h 30m     16\n",
       "27h 40m     15\n",
       "27h 45m     15\n",
       "22h 35m     15\n",
       "19h 5m      15\n",
       "1h 35m      15\n",
       "30h 30m     15\n",
       "23h 20m     14\n",
       "14h 10m     14\n",
       "19h 30m     14\n",
       "10h 45m     14\n",
       "25h 5m      14\n",
       "30h 20m     14\n",
       "25h 35m     14\n",
       "26h 40m     14\n",
       "13h 10m     14\n",
       "5h 50m      13\n",
       "10h 50m     13\n",
       "18h         13\n",
       "9h 25m      13\n",
       "25h 40m     13\n",
       "8h 45m      13\n",
       "38h         13\n",
       "29h 35m     12\n",
       "28h 5m      12\n",
       "15h 15m     12\n",
       "20h 35m     12\n",
       "21h 5m      12\n",
       "25h         12\n",
       "4h          12\n",
       "21h 10m     12\n",
       "17h 45m     12\n",
       "19h 40m     12\n",
       "38h 15m     12\n",
       "11h 35m     11\n",
       "33h 15m     11\n",
       "22h 25m     11\n",
       "16h 35m     11\n",
       "17h 20m     11\n",
       "23h 5m      11\n",
       "28h         11\n",
       "17h 55m     11\n",
       "14h 15m     11\n",
       "17h 35m     10\n",
       "4h 45m      10\n",
       "19h 15m     10\n",
       "9h 40m      10\n",
       "25h 15m      9\n",
       "26h 15m      9\n",
       "16h 20m      9\n",
       "21h 55m      9\n",
       "23h 55m      9\n",
       "25h 25m      9\n",
       "14h 40m      9\n",
       "29h 5m       9\n",
       "15h 5m       9\n",
       "16h 25m      9\n",
       "19h          9\n",
       "37h 20m      8\n",
       "21h 45m      8\n",
       "20h 45m      8\n",
       "17h 30m      8\n",
       "19h 45m      8\n",
       "15h 45m      8\n",
       "26h 25m      8\n",
       "4h 5m        8\n",
       "29h 55m      8\n",
       "8h 50m       8\n",
       "37h 25m      8\n",
       "19h 10m      7\n",
       "17h 15m      7\n",
       "28h 15m      7\n",
       "15h 35m      7\n",
       "16h 40m      7\n",
       "6h 45m       7\n",
       "11h 20m      7\n",
       "18h 30m      7\n",
       "30h 40m      7\n",
       "24h 15m      7\n",
       "18h 50m      7\n",
       "36h 10m      6\n",
       "21h          6\n",
       "28h 40m      5\n",
       "28h 25m      5\n",
       "32h 5m       5\n",
       "17h 40m      5\n",
       "29h 50m      5\n",
       "7h 25m       5\n",
       "15h 50m      5\n",
       "13h 5m       5\n",
       "30h 55m      5\n",
       "38h 20m      5\n",
       "10h 5m       5\n",
       "3h 35m       5\n",
       "38h 35m      4\n",
       "24h 5m       4\n",
       "23h 25m      4\n",
       "26h 45m      4\n",
       "21h 30m      4\n",
       "28h 10m      4\n",
       "22h 40m      4\n",
       "4h 15m       4\n",
       "21h 50m      4\n",
       "24h 25m      4\n",
       "24h 20m      3\n",
       "12h 50m      3\n",
       "4h 20m       3\n",
       "26h 5m       3\n",
       "17h 50m      3\n",
       "18h 15m      3\n",
       "18h 40m      3\n",
       "25h 10m      3\n",
       "13h 40m      3\n",
       "27h 50m      3\n",
       "3h 50m       3\n",
       "30h          3\n",
       "16h 30m      3\n",
       "18h 35m      3\n",
       "35h 5m       3\n",
       "9h 55m       2\n",
       "34h 30m      2\n",
       "20h 5m       2\n",
       "27h 25m      2\n",
       "31h 40m      2\n",
       "18h 55m      2\n",
       "17h 10m      2\n",
       "35h 15m      2\n",
       "19h 35m      2\n",
       "34h 5m       2\n",
       "28h 55m      2\n",
       "20h 40m      2\n",
       "7h 10m       2\n",
       "11h 10m      2\n",
       "34h 25m      2\n",
       "31h 55m      2\n",
       "20h 50m      2\n",
       "6h 50m       2\n",
       "30h 45m      2\n",
       "39h 5m       2\n",
       "32h 30m      2\n",
       "34h          2\n",
       "3h 55m       2\n",
       "19h 20m      2\n",
       "40h 20m      1\n",
       "4h 10m       1\n",
       "13h 35m      1\n",
       "29h 30m      1\n",
       "33h 45m      1\n",
       "31h 50m      1\n",
       "19h 50m      1\n",
       "36h 25m      1\n",
       "3h 25m       1\n",
       "27h 30m      1\n",
       "42h 45m      1\n",
       "29h 40m      1\n",
       "30h 15m      1\n",
       "35h 35m      1\n",
       "37h 10m      1\n",
       "35h 20m      1\n",
       "29h 10m      1\n",
       "47h          1\n",
       "27h 55m      1\n",
       "32h 55m      1\n",
       "41h 20m      1\n",
       "30h 25m      1\n",
       "32h 20m      1\n",
       "30h 10m      1\n",
       "33h 20m      1\n",
       "42h 5m       1\n",
       "28h 30m      1\n",
       "5m           1\n",
       "47h 40m      1\n",
       "31h 30m      1\n",
       "Name: Duration, dtype: int64"
      ]
     },
     "execution_count": 6,
     "metadata": {},
     "output_type": "execute_result"
    }
   ],
   "source": [
    "train[\"Duration\"].value_counts()"
   ]
  },
  {
   "cell_type": "code",
   "execution_count": 7,
   "id": "7486e4fc",
   "metadata": {
    "execution": {
     "iopub.execute_input": "2022-01-23T00:01:48.584966Z",
     "iopub.status.busy": "2022-01-23T00:01:48.584334Z",
     "iopub.status.idle": "2022-01-23T00:01:48.587201Z",
     "shell.execute_reply": "2022-01-23T00:01:48.586637Z",
     "shell.execute_reply.started": "2022-01-22T23:34:34.095386Z"
    },
    "papermill": {
     "duration": 0.075883,
     "end_time": "2022-01-23T00:01:48.587336",
     "exception": false,
     "start_time": "2022-01-23T00:01:48.511453",
     "status": "completed"
    },
    "tags": []
   },
   "outputs": [
    {
     "data": {
      "text/plain": [
       "(10683, 11)"
      ]
     },
     "execution_count": 7,
     "metadata": {},
     "output_type": "execute_result"
    }
   ],
   "source": [
    "train.shape"
   ]
  },
  {
   "cell_type": "code",
   "execution_count": 8,
   "id": "3fa33b52",
   "metadata": {
    "execution": {
     "iopub.execute_input": "2022-01-23T00:01:48.862948Z",
     "iopub.status.busy": "2022-01-23T00:01:48.862345Z",
     "iopub.status.idle": "2022-01-23T00:01:48.877274Z",
     "shell.execute_reply": "2022-01-23T00:01:48.876770Z",
     "shell.execute_reply.started": "2022-01-22T23:34:34.139898Z"
    },
    "papermill": {
     "duration": 0.086683,
     "end_time": "2022-01-23T00:01:48.877419",
     "exception": false,
     "start_time": "2022-01-23T00:01:48.790736",
     "status": "completed"
    },
    "tags": []
   },
   "outputs": [],
   "source": [
    "train.dropna(inplace = True)"
   ]
  },
  {
   "cell_type": "code",
   "execution_count": 9,
   "id": "03e0076d",
   "metadata": {
    "execution": {
     "iopub.execute_input": "2022-01-23T00:01:49.157110Z",
     "iopub.status.busy": "2022-01-23T00:01:49.156468Z",
     "iopub.status.idle": "2022-01-23T00:01:49.160084Z",
     "shell.execute_reply": "2022-01-23T00:01:49.159569Z",
     "shell.execute_reply.started": "2022-01-22T23:34:34.246211Z"
    },
    "papermill": {
     "duration": 0.076693,
     "end_time": "2022-01-23T00:01:49.160229",
     "exception": false,
     "start_time": "2022-01-23T00:01:49.083536",
     "status": "completed"
    },
    "tags": []
   },
   "outputs": [
    {
     "data": {
      "text/plain": [
       "(10682, 11)"
      ]
     },
     "execution_count": 9,
     "metadata": {},
     "output_type": "execute_result"
    }
   ],
   "source": [
    "train.shape"
   ]
  },
  {
   "cell_type": "code",
   "execution_count": 10,
   "id": "0154b50a",
   "metadata": {
    "execution": {
     "iopub.execute_input": "2022-01-23T00:01:49.437641Z",
     "iopub.status.busy": "2022-01-23T00:01:49.437015Z",
     "iopub.status.idle": "2022-01-23T00:01:49.451182Z",
     "shell.execute_reply": "2022-01-23T00:01:49.450598Z",
     "shell.execute_reply.started": "2022-01-22T23:34:34.32048Z"
    },
    "papermill": {
     "duration": 0.085162,
     "end_time": "2022-01-23T00:01:49.451324",
     "exception": false,
     "start_time": "2022-01-23T00:01:49.366162",
     "status": "completed"
    },
    "tags": []
   },
   "outputs": [
    {
     "data": {
      "text/plain": [
       "Airline            0\n",
       "Date_of_Journey    0\n",
       "Source             0\n",
       "Destination        0\n",
       "Route              0\n",
       "Dep_Time           0\n",
       "Arrival_Time       0\n",
       "Duration           0\n",
       "Total_Stops        0\n",
       "Additional_Info    0\n",
       "Price              0\n",
       "dtype: int64"
      ]
     },
     "execution_count": 10,
     "metadata": {},
     "output_type": "execute_result"
    }
   ],
   "source": [
    "train.isnull().sum()"
   ]
  },
  {
   "cell_type": "markdown",
   "id": "44a44779",
   "metadata": {
    "papermill": {
     "duration": 0.067937,
     "end_time": "2022-01-23T00:01:49.588189",
     "exception": false,
     "start_time": "2022-01-23T00:01:49.520252",
     "status": "completed"
    },
    "tags": []
   },
   "source": [
    "---"
   ]
  },
  {
   "cell_type": "code",
   "execution_count": 11,
   "id": "06da74fb",
   "metadata": {
    "execution": {
     "iopub.execute_input": "2022-01-23T00:01:50.140638Z",
     "iopub.status.busy": "2022-01-23T00:01:50.140025Z",
     "iopub.status.idle": "2022-01-23T00:01:50.152311Z",
     "shell.execute_reply": "2022-01-23T00:01:50.152801Z",
     "shell.execute_reply.started": "2022-01-22T23:34:34.460018Z"
    },
    "papermill": {
     "duration": 0.084412,
     "end_time": "2022-01-23T00:01:50.152975",
     "exception": false,
     "start_time": "2022-01-23T00:01:50.068563",
     "status": "completed"
    },
    "tags": []
   },
   "outputs": [],
   "source": [
    "train[\"Journey_day\"] = pd.to_datetime(train.Date_of_Journey, format=\"%d/%m/%Y\").dt.day"
   ]
  },
  {
   "cell_type": "code",
   "execution_count": 12,
   "id": "68b7f2b1",
   "metadata": {
    "execution": {
     "iopub.execute_input": "2022-01-23T00:01:50.295794Z",
     "iopub.status.busy": "2022-01-23T00:01:50.295098Z",
     "iopub.status.idle": "2022-01-23T00:01:50.304743Z",
     "shell.execute_reply": "2022-01-23T00:01:50.304130Z",
     "shell.execute_reply.started": "2022-01-22T23:34:34.494453Z"
    },
    "papermill": {
     "duration": 0.083475,
     "end_time": "2022-01-23T00:01:50.304878",
     "exception": false,
     "start_time": "2022-01-23T00:01:50.221403",
     "status": "completed"
    },
    "tags": []
   },
   "outputs": [],
   "source": [
    "train[\"Journey_month\"] = pd.to_datetime(train[\"Date_of_Journey\"], format = \"%d/%m/%Y\").dt.month"
   ]
  },
  {
   "cell_type": "code",
   "execution_count": 13,
   "id": "06c68735",
   "metadata": {
    "execution": {
     "iopub.execute_input": "2022-01-23T00:01:50.445403Z",
     "iopub.status.busy": "2022-01-23T00:01:50.444785Z",
     "iopub.status.idle": "2022-01-23T00:01:50.468546Z",
     "shell.execute_reply": "2022-01-23T00:01:50.469091Z",
     "shell.execute_reply.started": "2022-01-22T23:34:34.512661Z"
    },
    "papermill": {
     "duration": 0.096063,
     "end_time": "2022-01-23T00:01:50.469265",
     "exception": false,
     "start_time": "2022-01-23T00:01:50.373202",
     "status": "completed"
    },
    "tags": []
   },
   "outputs": [
    {
     "data": {
      "text/html": [
       "<div>\n",
       "<style scoped>\n",
       "    .dataframe tbody tr th:only-of-type {\n",
       "        vertical-align: middle;\n",
       "    }\n",
       "\n",
       "    .dataframe tbody tr th {\n",
       "        vertical-align: top;\n",
       "    }\n",
       "\n",
       "    .dataframe thead th {\n",
       "        text-align: right;\n",
       "    }\n",
       "</style>\n",
       "<table border=\"1\" class=\"dataframe\">\n",
       "  <thead>\n",
       "    <tr style=\"text-align: right;\">\n",
       "      <th></th>\n",
       "      <th>Airline</th>\n",
       "      <th>Date_of_Journey</th>\n",
       "      <th>Source</th>\n",
       "      <th>Destination</th>\n",
       "      <th>Route</th>\n",
       "      <th>Dep_Time</th>\n",
       "      <th>Arrival_Time</th>\n",
       "      <th>Duration</th>\n",
       "      <th>Total_Stops</th>\n",
       "      <th>Additional_Info</th>\n",
       "      <th>Price</th>\n",
       "      <th>Journey_day</th>\n",
       "      <th>Journey_month</th>\n",
       "    </tr>\n",
       "  </thead>\n",
       "  <tbody>\n",
       "    <tr>\n",
       "      <th>0</th>\n",
       "      <td>IndiGo</td>\n",
       "      <td>24/03/2019</td>\n",
       "      <td>Banglore</td>\n",
       "      <td>New Delhi</td>\n",
       "      <td>BLR → DEL</td>\n",
       "      <td>22:20</td>\n",
       "      <td>01:10 22 Mar</td>\n",
       "      <td>2h 50m</td>\n",
       "      <td>non-stop</td>\n",
       "      <td>No info</td>\n",
       "      <td>3897</td>\n",
       "      <td>24</td>\n",
       "      <td>3</td>\n",
       "    </tr>\n",
       "    <tr>\n",
       "      <th>1</th>\n",
       "      <td>Air India</td>\n",
       "      <td>1/05/2019</td>\n",
       "      <td>Kolkata</td>\n",
       "      <td>Banglore</td>\n",
       "      <td>CCU → IXR → BBI → BLR</td>\n",
       "      <td>05:50</td>\n",
       "      <td>13:15</td>\n",
       "      <td>7h 25m</td>\n",
       "      <td>2 stops</td>\n",
       "      <td>No info</td>\n",
       "      <td>7662</td>\n",
       "      <td>1</td>\n",
       "      <td>5</td>\n",
       "    </tr>\n",
       "    <tr>\n",
       "      <th>2</th>\n",
       "      <td>Jet Airways</td>\n",
       "      <td>9/06/2019</td>\n",
       "      <td>Delhi</td>\n",
       "      <td>Cochin</td>\n",
       "      <td>DEL → LKO → BOM → COK</td>\n",
       "      <td>09:25</td>\n",
       "      <td>04:25 10 Jun</td>\n",
       "      <td>19h</td>\n",
       "      <td>2 stops</td>\n",
       "      <td>No info</td>\n",
       "      <td>13882</td>\n",
       "      <td>9</td>\n",
       "      <td>6</td>\n",
       "    </tr>\n",
       "    <tr>\n",
       "      <th>3</th>\n",
       "      <td>IndiGo</td>\n",
       "      <td>12/05/2019</td>\n",
       "      <td>Kolkata</td>\n",
       "      <td>Banglore</td>\n",
       "      <td>CCU → NAG → BLR</td>\n",
       "      <td>18:05</td>\n",
       "      <td>23:30</td>\n",
       "      <td>5h 25m</td>\n",
       "      <td>1 stop</td>\n",
       "      <td>No info</td>\n",
       "      <td>6218</td>\n",
       "      <td>12</td>\n",
       "      <td>5</td>\n",
       "    </tr>\n",
       "    <tr>\n",
       "      <th>4</th>\n",
       "      <td>IndiGo</td>\n",
       "      <td>01/03/2019</td>\n",
       "      <td>Banglore</td>\n",
       "      <td>New Delhi</td>\n",
       "      <td>BLR → NAG → DEL</td>\n",
       "      <td>16:50</td>\n",
       "      <td>21:35</td>\n",
       "      <td>4h 45m</td>\n",
       "      <td>1 stop</td>\n",
       "      <td>No info</td>\n",
       "      <td>13302</td>\n",
       "      <td>1</td>\n",
       "      <td>3</td>\n",
       "    </tr>\n",
       "  </tbody>\n",
       "</table>\n",
       "</div>"
      ],
      "text/plain": [
       "       Airline Date_of_Journey    Source Destination                  Route  \\\n",
       "0       IndiGo      24/03/2019  Banglore   New Delhi              BLR → DEL   \n",
       "1    Air India       1/05/2019   Kolkata    Banglore  CCU → IXR → BBI → BLR   \n",
       "2  Jet Airways       9/06/2019     Delhi      Cochin  DEL → LKO → BOM → COK   \n",
       "3       IndiGo      12/05/2019   Kolkata    Banglore        CCU → NAG → BLR   \n",
       "4       IndiGo      01/03/2019  Banglore   New Delhi        BLR → NAG → DEL   \n",
       "\n",
       "  Dep_Time  Arrival_Time Duration Total_Stops Additional_Info  Price  \\\n",
       "0    22:20  01:10 22 Mar   2h 50m    non-stop         No info   3897   \n",
       "1    05:50         13:15   7h 25m     2 stops         No info   7662   \n",
       "2    09:25  04:25 10 Jun      19h     2 stops         No info  13882   \n",
       "3    18:05         23:30   5h 25m      1 stop         No info   6218   \n",
       "4    16:50         21:35   4h 45m      1 stop         No info  13302   \n",
       "\n",
       "   Journey_day  Journey_month  \n",
       "0           24              3  \n",
       "1            1              5  \n",
       "2            9              6  \n",
       "3           12              5  \n",
       "4            1              3  "
      ]
     },
     "execution_count": 13,
     "metadata": {},
     "output_type": "execute_result"
    }
   ],
   "source": [
    "train.head()"
   ]
  },
  {
   "cell_type": "code",
   "execution_count": 14,
   "id": "5a484d4e",
   "metadata": {
    "execution": {
     "iopub.execute_input": "2022-01-23T00:01:50.751886Z",
     "iopub.status.busy": "2022-01-23T00:01:50.750886Z",
     "iopub.status.idle": "2022-01-23T00:01:50.757458Z",
     "shell.execute_reply": "2022-01-23T00:01:50.758056Z",
     "shell.execute_reply.started": "2022-01-22T23:34:34.576404Z"
    },
    "papermill": {
     "duration": 0.079453,
     "end_time": "2022-01-23T00:01:50.758227",
     "exception": false,
     "start_time": "2022-01-23T00:01:50.678774",
     "status": "completed"
    },
    "tags": []
   },
   "outputs": [],
   "source": [
    "train.drop([\"Date_of_Journey\"], axis = 1, inplace = True)"
   ]
  },
  {
   "cell_type": "code",
   "execution_count": 15,
   "id": "f75181bf",
   "metadata": {
    "execution": {
     "iopub.execute_input": "2022-01-23T00:01:51.039706Z",
     "iopub.status.busy": "2022-01-23T00:01:51.039055Z",
     "iopub.status.idle": "2022-01-23T00:01:51.070907Z",
     "shell.execute_reply": "2022-01-23T00:01:51.071400Z",
     "shell.execute_reply.started": "2022-01-22T23:34:34.643885Z"
    },
    "papermill": {
     "duration": 0.106617,
     "end_time": "2022-01-23T00:01:51.071585",
     "exception": false,
     "start_time": "2022-01-23T00:01:50.964968",
     "status": "completed"
    },
    "tags": []
   },
   "outputs": [],
   "source": [
    " \n",
    " \n",
    "\n",
    " \n",
    "train[\"Dep_hour\"] = pd.to_datetime(train[\"Dep_Time\"]).dt.hour\n",
    "\n",
    " \n",
    "train[\"Dep_min\"] = pd.to_datetime(train[\"Dep_Time\"]).dt.minute\n",
    "\n",
    " \n",
    "train.drop([\"Dep_Time\"], axis = 1, inplace = True)"
   ]
  },
  {
   "cell_type": "code",
   "execution_count": 16,
   "id": "71b2a14c",
   "metadata": {
    "execution": {
     "iopub.execute_input": "2022-01-23T00:01:51.226472Z",
     "iopub.status.busy": "2022-01-23T00:01:51.225683Z",
     "iopub.status.idle": "2022-01-23T00:01:51.228955Z",
     "shell.execute_reply": "2022-01-23T00:01:51.229406Z",
     "shell.execute_reply.started": "2022-01-22T23:34:34.700037Z"
    },
    "papermill": {
     "duration": 0.088826,
     "end_time": "2022-01-23T00:01:51.229580",
     "exception": false,
     "start_time": "2022-01-23T00:01:51.140754",
     "status": "completed"
    },
    "tags": []
   },
   "outputs": [
    {
     "data": {
      "text/html": [
       "<div>\n",
       "<style scoped>\n",
       "    .dataframe tbody tr th:only-of-type {\n",
       "        vertical-align: middle;\n",
       "    }\n",
       "\n",
       "    .dataframe tbody tr th {\n",
       "        vertical-align: top;\n",
       "    }\n",
       "\n",
       "    .dataframe thead th {\n",
       "        text-align: right;\n",
       "    }\n",
       "</style>\n",
       "<table border=\"1\" class=\"dataframe\">\n",
       "  <thead>\n",
       "    <tr style=\"text-align: right;\">\n",
       "      <th></th>\n",
       "      <th>Airline</th>\n",
       "      <th>Source</th>\n",
       "      <th>Destination</th>\n",
       "      <th>Route</th>\n",
       "      <th>Arrival_Time</th>\n",
       "      <th>Duration</th>\n",
       "      <th>Total_Stops</th>\n",
       "      <th>Additional_Info</th>\n",
       "      <th>Price</th>\n",
       "      <th>Journey_day</th>\n",
       "      <th>Journey_month</th>\n",
       "      <th>Dep_hour</th>\n",
       "      <th>Dep_min</th>\n",
       "    </tr>\n",
       "  </thead>\n",
       "  <tbody>\n",
       "    <tr>\n",
       "      <th>0</th>\n",
       "      <td>IndiGo</td>\n",
       "      <td>Banglore</td>\n",
       "      <td>New Delhi</td>\n",
       "      <td>BLR → DEL</td>\n",
       "      <td>01:10 22 Mar</td>\n",
       "      <td>2h 50m</td>\n",
       "      <td>non-stop</td>\n",
       "      <td>No info</td>\n",
       "      <td>3897</td>\n",
       "      <td>24</td>\n",
       "      <td>3</td>\n",
       "      <td>22</td>\n",
       "      <td>20</td>\n",
       "    </tr>\n",
       "    <tr>\n",
       "      <th>1</th>\n",
       "      <td>Air India</td>\n",
       "      <td>Kolkata</td>\n",
       "      <td>Banglore</td>\n",
       "      <td>CCU → IXR → BBI → BLR</td>\n",
       "      <td>13:15</td>\n",
       "      <td>7h 25m</td>\n",
       "      <td>2 stops</td>\n",
       "      <td>No info</td>\n",
       "      <td>7662</td>\n",
       "      <td>1</td>\n",
       "      <td>5</td>\n",
       "      <td>5</td>\n",
       "      <td>50</td>\n",
       "    </tr>\n",
       "    <tr>\n",
       "      <th>2</th>\n",
       "      <td>Jet Airways</td>\n",
       "      <td>Delhi</td>\n",
       "      <td>Cochin</td>\n",
       "      <td>DEL → LKO → BOM → COK</td>\n",
       "      <td>04:25 10 Jun</td>\n",
       "      <td>19h</td>\n",
       "      <td>2 stops</td>\n",
       "      <td>No info</td>\n",
       "      <td>13882</td>\n",
       "      <td>9</td>\n",
       "      <td>6</td>\n",
       "      <td>9</td>\n",
       "      <td>25</td>\n",
       "    </tr>\n",
       "    <tr>\n",
       "      <th>3</th>\n",
       "      <td>IndiGo</td>\n",
       "      <td>Kolkata</td>\n",
       "      <td>Banglore</td>\n",
       "      <td>CCU → NAG → BLR</td>\n",
       "      <td>23:30</td>\n",
       "      <td>5h 25m</td>\n",
       "      <td>1 stop</td>\n",
       "      <td>No info</td>\n",
       "      <td>6218</td>\n",
       "      <td>12</td>\n",
       "      <td>5</td>\n",
       "      <td>18</td>\n",
       "      <td>5</td>\n",
       "    </tr>\n",
       "    <tr>\n",
       "      <th>4</th>\n",
       "      <td>IndiGo</td>\n",
       "      <td>Banglore</td>\n",
       "      <td>New Delhi</td>\n",
       "      <td>BLR → NAG → DEL</td>\n",
       "      <td>21:35</td>\n",
       "      <td>4h 45m</td>\n",
       "      <td>1 stop</td>\n",
       "      <td>No info</td>\n",
       "      <td>13302</td>\n",
       "      <td>1</td>\n",
       "      <td>3</td>\n",
       "      <td>16</td>\n",
       "      <td>50</td>\n",
       "    </tr>\n",
       "  </tbody>\n",
       "</table>\n",
       "</div>"
      ],
      "text/plain": [
       "       Airline    Source Destination                  Route  Arrival_Time  \\\n",
       "0       IndiGo  Banglore   New Delhi              BLR → DEL  01:10 22 Mar   \n",
       "1    Air India   Kolkata    Banglore  CCU → IXR → BBI → BLR         13:15   \n",
       "2  Jet Airways     Delhi      Cochin  DEL → LKO → BOM → COK  04:25 10 Jun   \n",
       "3       IndiGo   Kolkata    Banglore        CCU → NAG → BLR         23:30   \n",
       "4       IndiGo  Banglore   New Delhi        BLR → NAG → DEL         21:35   \n",
       "\n",
       "  Duration Total_Stops Additional_Info  Price  Journey_day  Journey_month  \\\n",
       "0   2h 50m    non-stop         No info   3897           24              3   \n",
       "1   7h 25m     2 stops         No info   7662            1              5   \n",
       "2      19h     2 stops         No info  13882            9              6   \n",
       "3   5h 25m      1 stop         No info   6218           12              5   \n",
       "4   4h 45m      1 stop         No info  13302            1              3   \n",
       "\n",
       "   Dep_hour  Dep_min  \n",
       "0        22       20  \n",
       "1         5       50  \n",
       "2         9       25  \n",
       "3        18        5  \n",
       "4        16       50  "
      ]
     },
     "execution_count": 16,
     "metadata": {},
     "output_type": "execute_result"
    }
   ],
   "source": [
    "train.head()"
   ]
  },
  {
   "cell_type": "code",
   "execution_count": 17,
   "id": "3bb05d23",
   "metadata": {
    "execution": {
     "iopub.execute_input": "2022-01-23T00:01:51.377989Z",
     "iopub.status.busy": "2022-01-23T00:01:51.377006Z",
     "iopub.status.idle": "2022-01-23T00:01:51.544158Z",
     "shell.execute_reply": "2022-01-23T00:01:51.543596Z",
     "shell.execute_reply.started": "2022-01-22T23:34:34.716433Z"
    },
    "papermill": {
     "duration": 0.243081,
     "end_time": "2022-01-23T00:01:51.544298",
     "exception": false,
     "start_time": "2022-01-23T00:01:51.301217",
     "status": "completed"
    },
    "tags": []
   },
   "outputs": [],
   "source": [
    " \n",
    " \n",
    "\n",
    " \n",
    "train[\"Arrival_hour\"] = pd.to_datetime(train.Arrival_Time).dt.hour\n",
    "\n",
    " \n",
    "train[\"Arrival_min\"] = pd.to_datetime(train.Arrival_Time).dt.minute\n",
    "\n",
    " \n",
    "train.drop([\"Arrival_Time\"], axis = 1, inplace = True)"
   ]
  },
  {
   "cell_type": "code",
   "execution_count": 18,
   "id": "4fc7a4e9",
   "metadata": {
    "execution": {
     "iopub.execute_input": "2022-01-23T00:01:51.689208Z",
     "iopub.status.busy": "2022-01-23T00:01:51.688124Z",
     "iopub.status.idle": "2022-01-23T00:01:51.701965Z",
     "shell.execute_reply": "2022-01-23T00:01:51.702403Z",
     "shell.execute_reply.started": "2022-01-22T23:34:37.046305Z"
    },
    "papermill": {
     "duration": 0.087483,
     "end_time": "2022-01-23T00:01:51.702576",
     "exception": false,
     "start_time": "2022-01-23T00:01:51.615093",
     "status": "completed"
    },
    "tags": []
   },
   "outputs": [
    {
     "data": {
      "text/html": [
       "<div>\n",
       "<style scoped>\n",
       "    .dataframe tbody tr th:only-of-type {\n",
       "        vertical-align: middle;\n",
       "    }\n",
       "\n",
       "    .dataframe tbody tr th {\n",
       "        vertical-align: top;\n",
       "    }\n",
       "\n",
       "    .dataframe thead th {\n",
       "        text-align: right;\n",
       "    }\n",
       "</style>\n",
       "<table border=\"1\" class=\"dataframe\">\n",
       "  <thead>\n",
       "    <tr style=\"text-align: right;\">\n",
       "      <th></th>\n",
       "      <th>Airline</th>\n",
       "      <th>Source</th>\n",
       "      <th>Destination</th>\n",
       "      <th>Route</th>\n",
       "      <th>Duration</th>\n",
       "      <th>Total_Stops</th>\n",
       "      <th>Additional_Info</th>\n",
       "      <th>Price</th>\n",
       "      <th>Journey_day</th>\n",
       "      <th>Journey_month</th>\n",
       "      <th>Dep_hour</th>\n",
       "      <th>Dep_min</th>\n",
       "      <th>Arrival_hour</th>\n",
       "      <th>Arrival_min</th>\n",
       "    </tr>\n",
       "  </thead>\n",
       "  <tbody>\n",
       "    <tr>\n",
       "      <th>0</th>\n",
       "      <td>IndiGo</td>\n",
       "      <td>Banglore</td>\n",
       "      <td>New Delhi</td>\n",
       "      <td>BLR → DEL</td>\n",
       "      <td>2h 50m</td>\n",
       "      <td>non-stop</td>\n",
       "      <td>No info</td>\n",
       "      <td>3897</td>\n",
       "      <td>24</td>\n",
       "      <td>3</td>\n",
       "      <td>22</td>\n",
       "      <td>20</td>\n",
       "      <td>1</td>\n",
       "      <td>10</td>\n",
       "    </tr>\n",
       "    <tr>\n",
       "      <th>1</th>\n",
       "      <td>Air India</td>\n",
       "      <td>Kolkata</td>\n",
       "      <td>Banglore</td>\n",
       "      <td>CCU → IXR → BBI → BLR</td>\n",
       "      <td>7h 25m</td>\n",
       "      <td>2 stops</td>\n",
       "      <td>No info</td>\n",
       "      <td>7662</td>\n",
       "      <td>1</td>\n",
       "      <td>5</td>\n",
       "      <td>5</td>\n",
       "      <td>50</td>\n",
       "      <td>13</td>\n",
       "      <td>15</td>\n",
       "    </tr>\n",
       "    <tr>\n",
       "      <th>2</th>\n",
       "      <td>Jet Airways</td>\n",
       "      <td>Delhi</td>\n",
       "      <td>Cochin</td>\n",
       "      <td>DEL → LKO → BOM → COK</td>\n",
       "      <td>19h</td>\n",
       "      <td>2 stops</td>\n",
       "      <td>No info</td>\n",
       "      <td>13882</td>\n",
       "      <td>9</td>\n",
       "      <td>6</td>\n",
       "      <td>9</td>\n",
       "      <td>25</td>\n",
       "      <td>4</td>\n",
       "      <td>25</td>\n",
       "    </tr>\n",
       "    <tr>\n",
       "      <th>3</th>\n",
       "      <td>IndiGo</td>\n",
       "      <td>Kolkata</td>\n",
       "      <td>Banglore</td>\n",
       "      <td>CCU → NAG → BLR</td>\n",
       "      <td>5h 25m</td>\n",
       "      <td>1 stop</td>\n",
       "      <td>No info</td>\n",
       "      <td>6218</td>\n",
       "      <td>12</td>\n",
       "      <td>5</td>\n",
       "      <td>18</td>\n",
       "      <td>5</td>\n",
       "      <td>23</td>\n",
       "      <td>30</td>\n",
       "    </tr>\n",
       "    <tr>\n",
       "      <th>4</th>\n",
       "      <td>IndiGo</td>\n",
       "      <td>Banglore</td>\n",
       "      <td>New Delhi</td>\n",
       "      <td>BLR → NAG → DEL</td>\n",
       "      <td>4h 45m</td>\n",
       "      <td>1 stop</td>\n",
       "      <td>No info</td>\n",
       "      <td>13302</td>\n",
       "      <td>1</td>\n",
       "      <td>3</td>\n",
       "      <td>16</td>\n",
       "      <td>50</td>\n",
       "      <td>21</td>\n",
       "      <td>35</td>\n",
       "    </tr>\n",
       "  </tbody>\n",
       "</table>\n",
       "</div>"
      ],
      "text/plain": [
       "       Airline    Source Destination                  Route Duration  \\\n",
       "0       IndiGo  Banglore   New Delhi              BLR → DEL   2h 50m   \n",
       "1    Air India   Kolkata    Banglore  CCU → IXR → BBI → BLR   7h 25m   \n",
       "2  Jet Airways     Delhi      Cochin  DEL → LKO → BOM → COK      19h   \n",
       "3       IndiGo   Kolkata    Banglore        CCU → NAG → BLR   5h 25m   \n",
       "4       IndiGo  Banglore   New Delhi        BLR → NAG → DEL   4h 45m   \n",
       "\n",
       "  Total_Stops Additional_Info  Price  Journey_day  Journey_month  Dep_hour  \\\n",
       "0    non-stop         No info   3897           24              3        22   \n",
       "1     2 stops         No info   7662            1              5         5   \n",
       "2     2 stops         No info  13882            9              6         9   \n",
       "3      1 stop         No info   6218           12              5        18   \n",
       "4      1 stop         No info  13302            1              3        16   \n",
       "\n",
       "   Dep_min  Arrival_hour  Arrival_min  \n",
       "0       20             1           10  \n",
       "1       50            13           15  \n",
       "2       25             4           25  \n",
       "3        5            23           30  \n",
       "4       50            21           35  "
      ]
     },
     "execution_count": 18,
     "metadata": {},
     "output_type": "execute_result"
    }
   ],
   "source": [
    "train.head()"
   ]
  },
  {
   "cell_type": "code",
   "execution_count": 19,
   "id": "d9ed9220",
   "metadata": {
    "execution": {
     "iopub.execute_input": "2022-01-23T00:01:51.991204Z",
     "iopub.status.busy": "2022-01-23T00:01:51.990548Z",
     "iopub.status.idle": "2022-01-23T00:01:52.011525Z",
     "shell.execute_reply": "2022-01-23T00:01:52.010995Z",
     "shell.execute_reply.started": "2022-01-22T23:34:37.311263Z"
    },
    "papermill": {
     "duration": 0.099147,
     "end_time": "2022-01-23T00:01:52.011676",
     "exception": false,
     "start_time": "2022-01-23T00:01:51.912529",
     "status": "completed"
    },
    "tags": []
   },
   "outputs": [],
   "source": [
    " \n",
    " \n",
    "\n",
    "\n",
    " \n",
    "duration = list(train[\"Duration\"])\n",
    "\n",
    "for i in range(len(duration)):\n",
    "    if len(duration[i].split()) != 2:     \n",
    "        if \"h\" in duration[i]:\n",
    "            duration[i] = duration[i].strip() + \" 0m\"    \n",
    "        else:\n",
    "            duration[i] = \"0h \" + duration[i]            \n",
    "\n",
    "duration_hours = []\n",
    "duration_mins = []\n",
    "for i in range(len(duration)):\n",
    "    duration_hours.append(int(duration[i].split(sep = \"h\")[0]))     \n",
    "    duration_mins.append(int(duration[i].split(sep = \"m\")[0].split()[-1]))    "
   ]
  },
  {
   "cell_type": "code",
   "execution_count": 20,
   "id": "7f6bdf7f",
   "metadata": {
    "execution": {
     "iopub.execute_input": "2022-01-23T00:01:52.162216Z",
     "iopub.status.busy": "2022-01-23T00:01:52.161586Z",
     "iopub.status.idle": "2022-01-23T00:01:52.165790Z",
     "shell.execute_reply": "2022-01-23T00:01:52.165190Z",
     "shell.execute_reply.started": "2022-01-22T23:34:37.450272Z"
    },
    "papermill": {
     "duration": 0.084521,
     "end_time": "2022-01-23T00:01:52.165930",
     "exception": false,
     "start_time": "2022-01-23T00:01:52.081409",
     "status": "completed"
    },
    "tags": []
   },
   "outputs": [],
   "source": [
    " \n",
    "\n",
    "train[\"Duration_hours\"] = duration_hours\n",
    "train[\"Duration_mins\"] = duration_mins"
   ]
  },
  {
   "cell_type": "code",
   "execution_count": 21,
   "id": "15423a74",
   "metadata": {
    "execution": {
     "iopub.execute_input": "2022-01-23T00:01:52.452731Z",
     "iopub.status.busy": "2022-01-23T00:01:52.451594Z",
     "iopub.status.idle": "2022-01-23T00:01:52.456937Z",
     "shell.execute_reply": "2022-01-23T00:01:52.456395Z",
     "shell.execute_reply.started": "2022-01-22T23:34:38.515895Z"
    },
    "papermill": {
     "duration": 0.080757,
     "end_time": "2022-01-23T00:01:52.457098",
     "exception": false,
     "start_time": "2022-01-23T00:01:52.376341",
     "status": "completed"
    },
    "tags": []
   },
   "outputs": [],
   "source": [
    "train.drop([\"Duration\"], axis = 1, inplace = True)"
   ]
  },
  {
   "cell_type": "code",
   "execution_count": 22,
   "id": "35aeedbb",
   "metadata": {
    "execution": {
     "iopub.execute_input": "2022-01-23T00:01:52.615610Z",
     "iopub.status.busy": "2022-01-23T00:01:52.614769Z",
     "iopub.status.idle": "2022-01-23T00:01:52.619060Z",
     "shell.execute_reply": "2022-01-23T00:01:52.618460Z",
     "shell.execute_reply.started": "2022-01-22T23:34:38.652069Z"
    },
    "papermill": {
     "duration": 0.090631,
     "end_time": "2022-01-23T00:01:52.619210",
     "exception": false,
     "start_time": "2022-01-23T00:01:52.528579",
     "status": "completed"
    },
    "tags": []
   },
   "outputs": [
    {
     "data": {
      "text/html": [
       "<div>\n",
       "<style scoped>\n",
       "    .dataframe tbody tr th:only-of-type {\n",
       "        vertical-align: middle;\n",
       "    }\n",
       "\n",
       "    .dataframe tbody tr th {\n",
       "        vertical-align: top;\n",
       "    }\n",
       "\n",
       "    .dataframe thead th {\n",
       "        text-align: right;\n",
       "    }\n",
       "</style>\n",
       "<table border=\"1\" class=\"dataframe\">\n",
       "  <thead>\n",
       "    <tr style=\"text-align: right;\">\n",
       "      <th></th>\n",
       "      <th>Airline</th>\n",
       "      <th>Source</th>\n",
       "      <th>Destination</th>\n",
       "      <th>Route</th>\n",
       "      <th>Total_Stops</th>\n",
       "      <th>Additional_Info</th>\n",
       "      <th>Price</th>\n",
       "      <th>Journey_day</th>\n",
       "      <th>Journey_month</th>\n",
       "      <th>Dep_hour</th>\n",
       "      <th>Dep_min</th>\n",
       "      <th>Arrival_hour</th>\n",
       "      <th>Arrival_min</th>\n",
       "      <th>Duration_hours</th>\n",
       "      <th>Duration_mins</th>\n",
       "    </tr>\n",
       "  </thead>\n",
       "  <tbody>\n",
       "    <tr>\n",
       "      <th>0</th>\n",
       "      <td>IndiGo</td>\n",
       "      <td>Banglore</td>\n",
       "      <td>New Delhi</td>\n",
       "      <td>BLR → DEL</td>\n",
       "      <td>non-stop</td>\n",
       "      <td>No info</td>\n",
       "      <td>3897</td>\n",
       "      <td>24</td>\n",
       "      <td>3</td>\n",
       "      <td>22</td>\n",
       "      <td>20</td>\n",
       "      <td>1</td>\n",
       "      <td>10</td>\n",
       "      <td>2</td>\n",
       "      <td>50</td>\n",
       "    </tr>\n",
       "    <tr>\n",
       "      <th>1</th>\n",
       "      <td>Air India</td>\n",
       "      <td>Kolkata</td>\n",
       "      <td>Banglore</td>\n",
       "      <td>CCU → IXR → BBI → BLR</td>\n",
       "      <td>2 stops</td>\n",
       "      <td>No info</td>\n",
       "      <td>7662</td>\n",
       "      <td>1</td>\n",
       "      <td>5</td>\n",
       "      <td>5</td>\n",
       "      <td>50</td>\n",
       "      <td>13</td>\n",
       "      <td>15</td>\n",
       "      <td>7</td>\n",
       "      <td>25</td>\n",
       "    </tr>\n",
       "    <tr>\n",
       "      <th>2</th>\n",
       "      <td>Jet Airways</td>\n",
       "      <td>Delhi</td>\n",
       "      <td>Cochin</td>\n",
       "      <td>DEL → LKO → BOM → COK</td>\n",
       "      <td>2 stops</td>\n",
       "      <td>No info</td>\n",
       "      <td>13882</td>\n",
       "      <td>9</td>\n",
       "      <td>6</td>\n",
       "      <td>9</td>\n",
       "      <td>25</td>\n",
       "      <td>4</td>\n",
       "      <td>25</td>\n",
       "      <td>19</td>\n",
       "      <td>0</td>\n",
       "    </tr>\n",
       "    <tr>\n",
       "      <th>3</th>\n",
       "      <td>IndiGo</td>\n",
       "      <td>Kolkata</td>\n",
       "      <td>Banglore</td>\n",
       "      <td>CCU → NAG → BLR</td>\n",
       "      <td>1 stop</td>\n",
       "      <td>No info</td>\n",
       "      <td>6218</td>\n",
       "      <td>12</td>\n",
       "      <td>5</td>\n",
       "      <td>18</td>\n",
       "      <td>5</td>\n",
       "      <td>23</td>\n",
       "      <td>30</td>\n",
       "      <td>5</td>\n",
       "      <td>25</td>\n",
       "    </tr>\n",
       "    <tr>\n",
       "      <th>4</th>\n",
       "      <td>IndiGo</td>\n",
       "      <td>Banglore</td>\n",
       "      <td>New Delhi</td>\n",
       "      <td>BLR → NAG → DEL</td>\n",
       "      <td>1 stop</td>\n",
       "      <td>No info</td>\n",
       "      <td>13302</td>\n",
       "      <td>1</td>\n",
       "      <td>3</td>\n",
       "      <td>16</td>\n",
       "      <td>50</td>\n",
       "      <td>21</td>\n",
       "      <td>35</td>\n",
       "      <td>4</td>\n",
       "      <td>45</td>\n",
       "    </tr>\n",
       "  </tbody>\n",
       "</table>\n",
       "</div>"
      ],
      "text/plain": [
       "       Airline    Source Destination                  Route Total_Stops  \\\n",
       "0       IndiGo  Banglore   New Delhi              BLR → DEL    non-stop   \n",
       "1    Air India   Kolkata    Banglore  CCU → IXR → BBI → BLR     2 stops   \n",
       "2  Jet Airways     Delhi      Cochin  DEL → LKO → BOM → COK     2 stops   \n",
       "3       IndiGo   Kolkata    Banglore        CCU → NAG → BLR      1 stop   \n",
       "4       IndiGo  Banglore   New Delhi        BLR → NAG → DEL      1 stop   \n",
       "\n",
       "  Additional_Info  Price  Journey_day  Journey_month  Dep_hour  Dep_min  \\\n",
       "0         No info   3897           24              3        22       20   \n",
       "1         No info   7662            1              5         5       50   \n",
       "2         No info  13882            9              6         9       25   \n",
       "3         No info   6218           12              5        18        5   \n",
       "4         No info  13302            1              3        16       50   \n",
       "\n",
       "   Arrival_hour  Arrival_min  Duration_hours  Duration_mins  \n",
       "0             1           10               2             50  \n",
       "1            13           15               7             25  \n",
       "2             4           25              19              0  \n",
       "3            23           30               5             25  \n",
       "4            21           35               4             45  "
      ]
     },
     "execution_count": 22,
     "metadata": {},
     "output_type": "execute_result"
    }
   ],
   "source": [
    "train.head()"
   ]
  },
  {
   "cell_type": "markdown",
   "id": "05d298aa",
   "metadata": {
    "papermill": {
     "duration": 0.070668,
     "end_time": "2022-01-23T00:01:52.760265",
     "exception": false,
     "start_time": "2022-01-23T00:01:52.689597",
     "status": "completed"
    },
    "tags": []
   },
   "source": [
    "---"
   ]
  },
  {
   "cell_type": "code",
   "execution_count": 23,
   "id": "03ddd771",
   "metadata": {
    "execution": {
     "iopub.execute_input": "2022-01-23T00:01:53.193319Z",
     "iopub.status.busy": "2022-01-23T00:01:53.192639Z",
     "iopub.status.idle": "2022-01-23T00:01:53.195732Z",
     "shell.execute_reply": "2022-01-23T00:01:53.195166Z",
     "shell.execute_reply.started": "2022-01-22T23:34:39.167378Z"
    },
    "papermill": {
     "duration": 0.081353,
     "end_time": "2022-01-23T00:01:53.195874",
     "exception": false,
     "start_time": "2022-01-23T00:01:53.114521",
     "status": "completed"
    },
    "tags": []
   },
   "outputs": [
    {
     "data": {
      "text/plain": [
       "Jet Airways                          3849\n",
       "IndiGo                               2053\n",
       "Air India                            1751\n",
       "Multiple carriers                    1196\n",
       "SpiceJet                              818\n",
       "Vistara                               479\n",
       "Air Asia                              319\n",
       "GoAir                                 194\n",
       "Multiple carriers Premium economy      13\n",
       "Jet Airways Business                    6\n",
       "Vistara Premium economy                 3\n",
       "Trujet                                  1\n",
       "Name: Airline, dtype: int64"
      ]
     },
     "execution_count": 23,
     "metadata": {},
     "output_type": "execute_result"
    }
   ],
   "source": [
    "train[\"Airline\"].value_counts()"
   ]
  },
  {
   "cell_type": "code",
   "execution_count": 24,
   "id": "c0876526",
   "metadata": {
    "execution": {
     "iopub.execute_input": "2022-01-23T00:01:53.348591Z",
     "iopub.status.busy": "2022-01-23T00:01:53.347966Z",
     "iopub.status.idle": "2022-01-23T00:01:53.924251Z",
     "shell.execute_reply": "2022-01-23T00:01:53.923737Z",
     "shell.execute_reply.started": "2022-01-22T23:34:40.589347Z"
    },
    "papermill": {
     "duration": 0.657829,
     "end_time": "2022-01-23T00:01:53.924398",
     "exception": false,
     "start_time": "2022-01-23T00:01:53.266569",
     "status": "completed"
    },
    "tags": []
   },
   "outputs": [
    {
     "data": {
      "image/png": "[encoded data removed]",
      "text/plain": [
       "<Figure size 1296x432 with 1 Axes>"
      ]
     },
     "metadata": {},
     "output_type": "display_data"
    }
   ],
   "source": [
    " \n",
    " \n",
    "\n",
    " \n",
    "sns.catplot(y = \"Price\", x = \"Airline\", data = train.sort_values(\"Price\", ascending = False), kind=\"boxen\", height = 6, aspect = 3)\n",
    "plt.show()"
   ]
  },
  {
   "cell_type": "code",
   "execution_count": 25,
   "id": "f6ead853",
   "metadata": {
    "execution": {
     "iopub.execute_input": "2022-01-23T00:01:54.222425Z",
     "iopub.status.busy": "2022-01-23T00:01:54.221794Z",
     "iopub.status.idle": "2022-01-23T00:01:54.238320Z",
     "shell.execute_reply": "2022-01-23T00:01:54.238883Z",
     "shell.execute_reply.started": "2022-01-22T23:34:42.167671Z"
    },
    "papermill": {
     "duration": 0.095254,
     "end_time": "2022-01-23T00:01:54.239062",
     "exception": false,
     "start_time": "2022-01-23T00:01:54.143808",
     "status": "completed"
    },
    "tags": []
   },
   "outputs": [
    {
     "data": {
      "text/html": [
       "<div>\n",
       "<style scoped>\n",
       "    .dataframe tbody tr th:only-of-type {\n",
       "        vertical-align: middle;\n",
       "    }\n",
       "\n",
       "    .dataframe tbody tr th {\n",
       "        vertical-align: top;\n",
       "    }\n",
       "\n",
       "    .dataframe thead th {\n",
       "        text-align: right;\n",
       "    }\n",
       "</style>\n",
       "<table border=\"1\" class=\"dataframe\">\n",
       "  <thead>\n",
       "    <tr style=\"text-align: right;\">\n",
       "      <th></th>\n",
       "      <th>Airline_Air India</th>\n",
       "      <th>Airline_GoAir</th>\n",
       "      <th>Airline_IndiGo</th>\n",
       "      <th>Airline_Jet Airways</th>\n",
       "      <th>Airline_Jet Airways Business</th>\n",
       "      <th>Airline_Multiple carriers</th>\n",
       "      <th>Airline_Multiple carriers Premium economy</th>\n",
       "      <th>Airline_SpiceJet</th>\n",
       "      <th>Airline_Trujet</th>\n",
       "      <th>Airline_Vistara</th>\n",
       "      <th>Airline_Vistara Premium economy</th>\n",
       "    </tr>\n",
       "  </thead>\n",
       "  <tbody>\n",
       "    <tr>\n",
       "      <th>0</th>\n",
       "      <td>0</td>\n",
       "      <td>0</td>\n",
       "      <td>1</td>\n",
       "      <td>0</td>\n",
       "      <td>0</td>\n",
       "      <td>0</td>\n",
       "      <td>0</td>\n",
       "      <td>0</td>\n",
       "      <td>0</td>\n",
       "      <td>0</td>\n",
       "      <td>0</td>\n",
       "    </tr>\n",
       "    <tr>\n",
       "      <th>1</th>\n",
       "      <td>1</td>\n",
       "      <td>0</td>\n",
       "      <td>0</td>\n",
       "      <td>0</td>\n",
       "      <td>0</td>\n",
       "      <td>0</td>\n",
       "      <td>0</td>\n",
       "      <td>0</td>\n",
       "      <td>0</td>\n",
       "      <td>0</td>\n",
       "      <td>0</td>\n",
       "    </tr>\n",
       "    <tr>\n",
       "      <th>2</th>\n",
       "      <td>0</td>\n",
       "      <td>0</td>\n",
       "      <td>0</td>\n",
       "      <td>1</td>\n",
       "      <td>0</td>\n",
       "      <td>0</td>\n",
       "      <td>0</td>\n",
       "      <td>0</td>\n",
       "      <td>0</td>\n",
       "      <td>0</td>\n",
       "      <td>0</td>\n",
       "    </tr>\n",
       "    <tr>\n",
       "      <th>3</th>\n",
       "      <td>0</td>\n",
       "      <td>0</td>\n",
       "      <td>1</td>\n",
       "      <td>0</td>\n",
       "      <td>0</td>\n",
       "      <td>0</td>\n",
       "      <td>0</td>\n",
       "      <td>0</td>\n",
       "      <td>0</td>\n",
       "      <td>0</td>\n",
       "      <td>0</td>\n",
       "    </tr>\n",
       "    <tr>\n",
       "      <th>4</th>\n",
       "      <td>0</td>\n",
       "      <td>0</td>\n",
       "      <td>1</td>\n",
       "      <td>0</td>\n",
       "      <td>0</td>\n",
       "      <td>0</td>\n",
       "      <td>0</td>\n",
       "      <td>0</td>\n",
       "      <td>0</td>\n",
       "      <td>0</td>\n",
       "      <td>0</td>\n",
       "    </tr>\n",
       "    <tr>\n",
       "      <th>5</th>\n",
       "      <td>0</td>\n",
       "      <td>0</td>\n",
       "      <td>0</td>\n",
       "      <td>0</td>\n",
       "      <td>0</td>\n",
       "      <td>0</td>\n",
       "      <td>0</td>\n",
       "      <td>1</td>\n",
       "      <td>0</td>\n",
       "      <td>0</td>\n",
       "      <td>0</td>\n",
       "    </tr>\n",
       "    <tr>\n",
       "      <th>6</th>\n",
       "      <td>0</td>\n",
       "      <td>0</td>\n",
       "      <td>0</td>\n",
       "      <td>1</td>\n",
       "      <td>0</td>\n",
       "      <td>0</td>\n",
       "      <td>0</td>\n",
       "      <td>0</td>\n",
       "      <td>0</td>\n",
       "      <td>0</td>\n",
       "      <td>0</td>\n",
       "    </tr>\n",
       "    <tr>\n",
       "      <th>7</th>\n",
       "      <td>0</td>\n",
       "      <td>0</td>\n",
       "      <td>0</td>\n",
       "      <td>1</td>\n",
       "      <td>0</td>\n",
       "      <td>0</td>\n",
       "      <td>0</td>\n",
       "      <td>0</td>\n",
       "      <td>0</td>\n",
       "      <td>0</td>\n",
       "      <td>0</td>\n",
       "    </tr>\n",
       "    <tr>\n",
       "      <th>8</th>\n",
       "      <td>0</td>\n",
       "      <td>0</td>\n",
       "      <td>0</td>\n",
       "      <td>1</td>\n",
       "      <td>0</td>\n",
       "      <td>0</td>\n",
       "      <td>0</td>\n",
       "      <td>0</td>\n",
       "      <td>0</td>\n",
       "      <td>0</td>\n",
       "      <td>0</td>\n",
       "    </tr>\n",
       "    <tr>\n",
       "      <th>9</th>\n",
       "      <td>0</td>\n",
       "      <td>0</td>\n",
       "      <td>0</td>\n",
       "      <td>0</td>\n",
       "      <td>0</td>\n",
       "      <td>1</td>\n",
       "      <td>0</td>\n",
       "      <td>0</td>\n",
       "      <td>0</td>\n",
       "      <td>0</td>\n",
       "      <td>0</td>\n",
       "    </tr>\n",
       "  </tbody>\n",
       "</table>\n",
       "</div>"
      ],
      "text/plain": [
       "   Airline_Air India  Airline_GoAir  Airline_IndiGo  Airline_Jet Airways  \\\n",
       "0                  0              0               1                    0   \n",
       "1                  1              0               0                    0   \n",
       "2                  0              0               0                    1   \n",
       "3                  0              0               1                    0   \n",
       "4                  0              0               1                    0   \n",
       "5                  0              0               0                    0   \n",
       "6                  0              0               0                    1   \n",
       "7                  0              0               0                    1   \n",
       "8                  0              0               0                    1   \n",
       "9                  0              0               0                    0   \n",
       "\n",
       "   Airline_Jet Airways Business  Airline_Multiple carriers  \\\n",
       "0                             0                          0   \n",
       "1                             0                          0   \n",
       "2                             0                          0   \n",
       "3                             0                          0   \n",
       "4                             0                          0   \n",
       "5                             0                          0   \n",
       "6                             0                          0   \n",
       "7                             0                          0   \n",
       "8                             0                          0   \n",
       "9                             0                          1   \n",
       "\n",
       "   Airline_Multiple carriers Premium economy  Airline_SpiceJet  \\\n",
       "0                                          0                 0   \n",
       "1                                          0                 0   \n",
       "2                                          0                 0   \n",
       "3                                          0                 0   \n",
       "4                                          0                 0   \n",
       "5                                          0                 1   \n",
       "6                                          0                 0   \n",
       "7                                          0                 0   \n",
       "8                                          0                 0   \n",
       "9                                          0                 0   \n",
       "\n",
       "   Airline_Trujet  Airline_Vistara  Airline_Vistara Premium economy  \n",
       "0               0                0                                0  \n",
       "1               0                0                                0  \n",
       "2               0                0                                0  \n",
       "3               0                0                                0  \n",
       "4               0                0                                0  \n",
       "5               0                0                                0  \n",
       "6               0                0                                0  \n",
       "7               0                0                                0  \n",
       "8               0                0                                0  \n",
       "9               0                0                                0  "
      ]
     },
     "execution_count": 25,
     "metadata": {},
     "output_type": "execute_result"
    }
   ],
   "source": [
    "Airline = train[[\"Airline\"]]\n",
    "\n",
    "Airline = pd.get_dummies(Airline, drop_first= True) \n",
    "\n",
    "Airline.head(10)"
   ]
  },
  {
   "cell_type": "code",
   "execution_count": 26,
   "id": "a22e65d6",
   "metadata": {
    "execution": {
     "iopub.execute_input": "2022-01-23T00:01:54.390140Z",
     "iopub.status.busy": "2022-01-23T00:01:54.389511Z",
     "iopub.status.idle": "2022-01-23T00:01:54.396274Z",
     "shell.execute_reply": "2022-01-23T00:01:54.396802Z",
     "shell.execute_reply.started": "2022-01-22T23:34:42.303001Z"
    },
    "papermill": {
     "duration": 0.08265,
     "end_time": "2022-01-23T00:01:54.396966",
     "exception": false,
     "start_time": "2022-01-23T00:01:54.314316",
     "status": "completed"
    },
    "tags": []
   },
   "outputs": [
    {
     "data": {
      "text/plain": [
       "Delhi       4536\n",
       "Kolkata     2871\n",
       "Banglore    2197\n",
       "Mumbai       697\n",
       "Chennai      381\n",
       "Name: Source, dtype: int64"
      ]
     },
     "execution_count": 26,
     "metadata": {},
     "output_type": "execute_result"
    }
   ],
   "source": [
    "train[\"Source\"].value_counts()"
   ]
  },
  {
   "cell_type": "code",
   "execution_count": 27,
   "id": "74f2c63e",
   "metadata": {
    "execution": {
     "iopub.execute_input": "2022-01-23T00:01:54.546362Z",
     "iopub.status.busy": "2022-01-23T00:01:54.545675Z",
     "iopub.status.idle": "2022-01-23T00:01:54.932898Z",
     "shell.execute_reply": "2022-01-23T00:01:54.933599Z",
     "shell.execute_reply.started": "2022-01-22T23:34:42.456701Z"
    },
    "papermill": {
     "duration": 0.463992,
     "end_time": "2022-01-23T00:01:54.933844",
     "exception": false,
     "start_time": "2022-01-23T00:01:54.469852",
     "status": "completed"
    },
    "tags": []
   },
   "outputs": [
    {
     "data": {
      "image/png": "[encoded data removed]",
      "text/plain": [
       "<Figure size 864x288 with 1 Axes>"
      ]
     },
     "metadata": {},
     "output_type": "display_data"
    }
   ],
   "source": [
    " \n",
    "\n",
    "sns.catplot(y = \"Price\", x = \"Source\", data = train.sort_values(\"Price\", ascending = False), kind=\"boxen\", height = 4, aspect = 3)\n",
    "plt.show()"
   ]
  },
  {
   "cell_type": "code",
   "execution_count": 28,
   "id": "50549ae3",
   "metadata": {
    "execution": {
     "iopub.execute_input": "2022-01-23T00:01:55.265461Z",
     "iopub.status.busy": "2022-01-23T00:01:55.264534Z",
     "iopub.status.idle": "2022-01-23T00:01:55.282203Z",
     "shell.execute_reply": "2022-01-23T00:01:55.282844Z",
     "shell.execute_reply.started": "2022-01-22T23:34:42.938303Z"
    },
    "papermill": {
     "duration": 0.118893,
     "end_time": "2022-01-23T00:01:55.283015",
     "exception": false,
     "start_time": "2022-01-23T00:01:55.164122",
     "status": "completed"
    },
    "tags": []
   },
   "outputs": [
    {
     "data": {
      "text/html": [
       "<div>\n",
       "<style scoped>\n",
       "    .dataframe tbody tr th:only-of-type {\n",
       "        vertical-align: middle;\n",
       "    }\n",
       "\n",
       "    .dataframe tbody tr th {\n",
       "        vertical-align: top;\n",
       "    }\n",
       "\n",
       "    .dataframe thead th {\n",
       "        text-align: right;\n",
       "    }\n",
       "</style>\n",
       "<table border=\"1\" class=\"dataframe\">\n",
       "  <thead>\n",
       "    <tr style=\"text-align: right;\">\n",
       "      <th></th>\n",
       "      <th>Source_Chennai</th>\n",
       "      <th>Source_Delhi</th>\n",
       "      <th>Source_Kolkata</th>\n",
       "      <th>Source_Mumbai</th>\n",
       "    </tr>\n",
       "  </thead>\n",
       "  <tbody>\n",
       "    <tr>\n",
       "      <th>0</th>\n",
       "      <td>0</td>\n",
       "      <td>0</td>\n",
       "      <td>0</td>\n",
       "      <td>0</td>\n",
       "    </tr>\n",
       "    <tr>\n",
       "      <th>1</th>\n",
       "      <td>0</td>\n",
       "      <td>0</td>\n",
       "      <td>1</td>\n",
       "      <td>0</td>\n",
       "    </tr>\n",
       "    <tr>\n",
       "      <th>2</th>\n",
       "      <td>0</td>\n",
       "      <td>1</td>\n",
       "      <td>0</td>\n",
       "      <td>0</td>\n",
       "    </tr>\n",
       "    <tr>\n",
       "      <th>3</th>\n",
       "      <td>0</td>\n",
       "      <td>0</td>\n",
       "      <td>1</td>\n",
       "      <td>0</td>\n",
       "    </tr>\n",
       "    <tr>\n",
       "      <th>4</th>\n",
       "      <td>0</td>\n",
       "      <td>0</td>\n",
       "      <td>0</td>\n",
       "      <td>0</td>\n",
       "    </tr>\n",
       "  </tbody>\n",
       "</table>\n",
       "</div>"
      ],
      "text/plain": [
       "   Source_Chennai  Source_Delhi  Source_Kolkata  Source_Mumbai\n",
       "0               0             0               0              0\n",
       "1               0             0               1              0\n",
       "2               0             1               0              0\n",
       "3               0             0               1              0\n",
       "4               0             0               0              0"
      ]
     },
     "execution_count": 28,
     "metadata": {},
     "output_type": "execute_result"
    }
   ],
   "source": [
    " \n",
    "\n",
    "Source = train[[\"Source\"]]\n",
    "\n",
    "Source = pd.get_dummies(Source, drop_first= True)\n",
    "\n",
    "Source.head()"
   ]
  },
  {
   "cell_type": "code",
   "execution_count": 29,
   "id": "5b5bf263",
   "metadata": {
    "execution": {
     "iopub.execute_input": "2022-01-23T00:01:55.445219Z",
     "iopub.status.busy": "2022-01-23T00:01:55.440265Z",
     "iopub.status.idle": "2022-01-23T00:01:55.447834Z",
     "shell.execute_reply": "2022-01-23T00:01:55.448344Z",
     "shell.execute_reply.started": "2022-01-22T23:34:42.955821Z"
    },
    "papermill": {
     "duration": 0.08545,
     "end_time": "2022-01-23T00:01:55.448502",
     "exception": false,
     "start_time": "2022-01-23T00:01:55.363052",
     "status": "completed"
    },
    "tags": []
   },
   "outputs": [
    {
     "data": {
      "text/plain": [
       "Cochin       4536\n",
       "Banglore     2871\n",
       "Delhi        1265\n",
       "New Delhi     932\n",
       "Hyderabad     697\n",
       "Kolkata       381\n",
       "Name: Destination, dtype: int64"
      ]
     },
     "execution_count": 29,
     "metadata": {},
     "output_type": "execute_result"
    }
   ],
   "source": [
    "train[\"Destination\"].value_counts()"
   ]
  },
  {
   "cell_type": "code",
   "execution_count": 30,
   "id": "2374e0e9",
   "metadata": {
    "execution": {
     "iopub.execute_input": "2022-01-23T00:01:55.748268Z",
     "iopub.status.busy": "2022-01-23T00:01:55.747317Z",
     "iopub.status.idle": "2022-01-23T00:01:55.762531Z",
     "shell.execute_reply": "2022-01-23T00:01:55.762034Z",
     "shell.execute_reply.started": "2022-01-22T23:34:43.111164Z"
    },
    "papermill": {
     "duration": 0.091887,
     "end_time": "2022-01-23T00:01:55.762705",
     "exception": false,
     "start_time": "2022-01-23T00:01:55.670818",
     "status": "completed"
    },
    "tags": []
   },
   "outputs": [
    {
     "data": {
      "text/html": [
       "<div>\n",
       "<style scoped>\n",
       "    .dataframe tbody tr th:only-of-type {\n",
       "        vertical-align: middle;\n",
       "    }\n",
       "\n",
       "    .dataframe tbody tr th {\n",
       "        vertical-align: top;\n",
       "    }\n",
       "\n",
       "    .dataframe thead th {\n",
       "        text-align: right;\n",
       "    }\n",
       "</style>\n",
       "<table border=\"1\" class=\"dataframe\">\n",
       "  <thead>\n",
       "    <tr style=\"text-align: right;\">\n",
       "      <th></th>\n",
       "      <th>Destination_Cochin</th>\n",
       "      <th>Destination_Delhi</th>\n",
       "      <th>Destination_Hyderabad</th>\n",
       "      <th>Destination_Kolkata</th>\n",
       "      <th>Destination_New Delhi</th>\n",
       "    </tr>\n",
       "  </thead>\n",
       "  <tbody>\n",
       "    <tr>\n",
       "      <th>0</th>\n",
       "      <td>0</td>\n",
       "      <td>0</td>\n",
       "      <td>0</td>\n",
       "      <td>0</td>\n",
       "      <td>1</td>\n",
       "    </tr>\n",
       "    <tr>\n",
       "      <th>1</th>\n",
       "      <td>0</td>\n",
       "      <td>0</td>\n",
       "      <td>0</td>\n",
       "      <td>0</td>\n",
       "      <td>0</td>\n",
       "    </tr>\n",
       "    <tr>\n",
       "      <th>2</th>\n",
       "      <td>1</td>\n",
       "      <td>0</td>\n",
       "      <td>0</td>\n",
       "      <td>0</td>\n",
       "      <td>0</td>\n",
       "    </tr>\n",
       "    <tr>\n",
       "      <th>3</th>\n",
       "      <td>0</td>\n",
       "      <td>0</td>\n",
       "      <td>0</td>\n",
       "      <td>0</td>\n",
       "      <td>0</td>\n",
       "    </tr>\n",
       "    <tr>\n",
       "      <th>4</th>\n",
       "      <td>0</td>\n",
       "      <td>0</td>\n",
       "      <td>0</td>\n",
       "      <td>0</td>\n",
       "      <td>1</td>\n",
       "    </tr>\n",
       "  </tbody>\n",
       "</table>\n",
       "</div>"
      ],
      "text/plain": [
       "   Destination_Cochin  Destination_Delhi  Destination_Hyderabad  \\\n",
       "0                   0                  0                      0   \n",
       "1                   0                  0                      0   \n",
       "2                   1                  0                      0   \n",
       "3                   0                  0                      0   \n",
       "4                   0                  0                      0   \n",
       "\n",
       "   Destination_Kolkata  Destination_New Delhi  \n",
       "0                    0                      1  \n",
       "1                    0                      0  \n",
       "2                    0                      0  \n",
       "3                    0                      0  \n",
       "4                    0                      1  "
      ]
     },
     "execution_count": 30,
     "metadata": {},
     "output_type": "execute_result"
    }
   ],
   "source": [
    " \n",
    "\n",
    "Destination = train[[\"Destination\"]]\n",
    "\n",
    "Destination = pd.get_dummies(Destination, drop_first = True)\n",
    "\n",
    "Destination.head()"
   ]
  },
  {
   "cell_type": "code",
   "execution_count": 31,
   "id": "97755b2e",
   "metadata": {
    "execution": {
     "iopub.execute_input": "2022-01-23T00:01:55.919509Z",
     "iopub.status.busy": "2022-01-23T00:01:55.918874Z",
     "iopub.status.idle": "2022-01-23T00:01:55.921311Z",
     "shell.execute_reply": "2022-01-23T00:01:55.921751Z",
     "shell.execute_reply.started": "2022-01-22T23:34:43.566954Z"
    },
    "papermill": {
     "duration": 0.083982,
     "end_time": "2022-01-23T00:01:55.921913",
     "exception": false,
     "start_time": "2022-01-23T00:01:55.837931",
     "status": "completed"
    },
    "tags": []
   },
   "outputs": [
    {
     "data": {
      "text/plain": [
       "0                    BLR → DEL\n",
       "1        CCU → IXR → BBI → BLR\n",
       "2        DEL → LKO → BOM → COK\n",
       "3              CCU → NAG → BLR\n",
       "4              BLR → NAG → DEL\n",
       "                 ...          \n",
       "10678                CCU → BLR\n",
       "10679                CCU → BLR\n",
       "10680                BLR → DEL\n",
       "10681                BLR → DEL\n",
       "10682    DEL → GOI → BOM → COK\n",
       "Name: Route, Length: 10682, dtype: object"
      ]
     },
     "execution_count": 31,
     "metadata": {},
     "output_type": "execute_result"
    }
   ],
   "source": [
    "train[\"Route\"]"
   ]
  },
  {
   "cell_type": "code",
   "execution_count": 32,
   "id": "2741bc75",
   "metadata": {
    "execution": {
     "iopub.execute_input": "2022-01-23T00:01:56.228116Z",
     "iopub.status.busy": "2022-01-23T00:01:56.227497Z",
     "iopub.status.idle": "2022-01-23T00:01:56.232302Z",
     "shell.execute_reply": "2022-01-23T00:01:56.232754Z",
     "shell.execute_reply.started": "2022-01-22T23:34:43.94008Z"
    },
    "papermill": {
     "duration": 0.084042,
     "end_time": "2022-01-23T00:01:56.232915",
     "exception": false,
     "start_time": "2022-01-23T00:01:56.148873",
     "status": "completed"
    },
    "tags": []
   },
   "outputs": [],
   "source": [
    " \n",
    " \n",
    "\n",
    "train.drop([\"Route\", \"Additional_Info\"], axis = 1, inplace = True)"
   ]
  },
  {
   "cell_type": "code",
   "execution_count": 33,
   "id": "165e08e0",
   "metadata": {
    "execution": {
     "iopub.execute_input": "2022-01-23T00:01:56.388902Z",
     "iopub.status.busy": "2022-01-23T00:01:56.388244Z",
     "iopub.status.idle": "2022-01-23T00:01:56.396461Z",
     "shell.execute_reply": "2022-01-23T00:01:56.395858Z",
     "shell.execute_reply.started": "2022-01-22T23:34:44.140327Z"
    },
    "papermill": {
     "duration": 0.0868,
     "end_time": "2022-01-23T00:01:56.396595",
     "exception": false,
     "start_time": "2022-01-23T00:01:56.309795",
     "status": "completed"
    },
    "tags": []
   },
   "outputs": [
    {
     "data": {
      "text/plain": [
       "1 stop      5625\n",
       "non-stop    3491\n",
       "2 stops     1520\n",
       "3 stops       45\n",
       "4 stops        1\n",
       "Name: Total_Stops, dtype: int64"
      ]
     },
     "execution_count": 33,
     "metadata": {},
     "output_type": "execute_result"
    }
   ],
   "source": [
    "train[\"Total_Stops\"].value_counts()"
   ]
  },
  {
   "cell_type": "code",
   "execution_count": 34,
   "id": "469d73ad",
   "metadata": {
    "execution": {
     "iopub.execute_input": "2022-01-23T00:01:56.711148Z",
     "iopub.status.busy": "2022-01-23T00:01:56.710051Z",
     "iopub.status.idle": "2022-01-23T00:01:56.719640Z",
     "shell.execute_reply": "2022-01-23T00:01:56.719074Z",
     "shell.execute_reply.started": "2022-01-22T23:34:44.848495Z"
    },
    "papermill": {
     "duration": 0.097321,
     "end_time": "2022-01-23T00:01:56.719826",
     "exception": false,
     "start_time": "2022-01-23T00:01:56.622505",
     "status": "completed"
    },
    "tags": []
   },
   "outputs": [],
   "source": [
    "train.replace({\"non-stop\": 0, \"1 stop\": 1, \"2 stops\": 2, \"3 stops\": 3, \"4 stops\": 4}, inplace = True)"
   ]
  },
  {
   "cell_type": "code",
   "execution_count": 35,
   "id": "71fd778b",
   "metadata": {
    "execution": {
     "iopub.execute_input": "2022-01-23T00:01:56.885786Z",
     "iopub.status.busy": "2022-01-23T00:01:56.875417Z",
     "iopub.status.idle": "2022-01-23T00:01:56.889635Z",
     "shell.execute_reply": "2022-01-23T00:01:56.889181Z",
     "shell.execute_reply.started": "2022-01-22T23:34:45.901002Z"
    },
    "papermill": {
     "duration": 0.093496,
     "end_time": "2022-01-23T00:01:56.889792",
     "exception": false,
     "start_time": "2022-01-23T00:01:56.796296",
     "status": "completed"
    },
    "tags": []
   },
   "outputs": [
    {
     "data": {
      "text/html": [
       "<div>\n",
       "<style scoped>\n",
       "    .dataframe tbody tr th:only-of-type {\n",
       "        vertical-align: middle;\n",
       "    }\n",
       "\n",
       "    .dataframe tbody tr th {\n",
       "        vertical-align: top;\n",
       "    }\n",
       "\n",
       "    .dataframe thead th {\n",
       "        text-align: right;\n",
       "    }\n",
       "</style>\n",
       "<table border=\"1\" class=\"dataframe\">\n",
       "  <thead>\n",
       "    <tr style=\"text-align: right;\">\n",
       "      <th></th>\n",
       "      <th>Airline</th>\n",
       "      <th>Source</th>\n",
       "      <th>Destination</th>\n",
       "      <th>Total_Stops</th>\n",
       "      <th>Price</th>\n",
       "      <th>Journey_day</th>\n",
       "      <th>Journey_month</th>\n",
       "      <th>Dep_hour</th>\n",
       "      <th>Dep_min</th>\n",
       "      <th>Arrival_hour</th>\n",
       "      <th>Arrival_min</th>\n",
       "      <th>Duration_hours</th>\n",
       "      <th>Duration_mins</th>\n",
       "    </tr>\n",
       "  </thead>\n",
       "  <tbody>\n",
       "    <tr>\n",
       "      <th>0</th>\n",
       "      <td>IndiGo</td>\n",
       "      <td>Banglore</td>\n",
       "      <td>New Delhi</td>\n",
       "      <td>0</td>\n",
       "      <td>3897</td>\n",
       "      <td>24</td>\n",
       "      <td>3</td>\n",
       "      <td>22</td>\n",
       "      <td>20</td>\n",
       "      <td>1</td>\n",
       "      <td>10</td>\n",
       "      <td>2</td>\n",
       "      <td>50</td>\n",
       "    </tr>\n",
       "    <tr>\n",
       "      <th>1</th>\n",
       "      <td>Air India</td>\n",
       "      <td>Kolkata</td>\n",
       "      <td>Banglore</td>\n",
       "      <td>2</td>\n",
       "      <td>7662</td>\n",
       "      <td>1</td>\n",
       "      <td>5</td>\n",
       "      <td>5</td>\n",
       "      <td>50</td>\n",
       "      <td>13</td>\n",
       "      <td>15</td>\n",
       "      <td>7</td>\n",
       "      <td>25</td>\n",
       "    </tr>\n",
       "    <tr>\n",
       "      <th>2</th>\n",
       "      <td>Jet Airways</td>\n",
       "      <td>Delhi</td>\n",
       "      <td>Cochin</td>\n",
       "      <td>2</td>\n",
       "      <td>13882</td>\n",
       "      <td>9</td>\n",
       "      <td>6</td>\n",
       "      <td>9</td>\n",
       "      <td>25</td>\n",
       "      <td>4</td>\n",
       "      <td>25</td>\n",
       "      <td>19</td>\n",
       "      <td>0</td>\n",
       "    </tr>\n",
       "    <tr>\n",
       "      <th>3</th>\n",
       "      <td>IndiGo</td>\n",
       "      <td>Kolkata</td>\n",
       "      <td>Banglore</td>\n",
       "      <td>1</td>\n",
       "      <td>6218</td>\n",
       "      <td>12</td>\n",
       "      <td>5</td>\n",
       "      <td>18</td>\n",
       "      <td>5</td>\n",
       "      <td>23</td>\n",
       "      <td>30</td>\n",
       "      <td>5</td>\n",
       "      <td>25</td>\n",
       "    </tr>\n",
       "    <tr>\n",
       "      <th>4</th>\n",
       "      <td>IndiGo</td>\n",
       "      <td>Banglore</td>\n",
       "      <td>New Delhi</td>\n",
       "      <td>1</td>\n",
       "      <td>13302</td>\n",
       "      <td>1</td>\n",
       "      <td>3</td>\n",
       "      <td>16</td>\n",
       "      <td>50</td>\n",
       "      <td>21</td>\n",
       "      <td>35</td>\n",
       "      <td>4</td>\n",
       "      <td>45</td>\n",
       "    </tr>\n",
       "  </tbody>\n",
       "</table>\n",
       "</div>"
      ],
      "text/plain": [
       "       Airline    Source Destination  Total_Stops  Price  Journey_day  \\\n",
       "0       IndiGo  Banglore   New Delhi            0   3897           24   \n",
       "1    Air India   Kolkata    Banglore            2   7662            1   \n",
       "2  Jet Airways     Delhi      Cochin            2  13882            9   \n",
       "3       IndiGo   Kolkata    Banglore            1   6218           12   \n",
       "4       IndiGo  Banglore   New Delhi            1  13302            1   \n",
       "\n",
       "   Journey_month  Dep_hour  Dep_min  Arrival_hour  Arrival_min  \\\n",
       "0              3        22       20             1           10   \n",
       "1              5         5       50            13           15   \n",
       "2              6         9       25             4           25   \n",
       "3              5        18        5            23           30   \n",
       "4              3        16       50            21           35   \n",
       "\n",
       "   Duration_hours  Duration_mins  \n",
       "0               2             50  \n",
       "1               7             25  \n",
       "2              19              0  \n",
       "3               5             25  \n",
       "4               4             45  "
      ]
     },
     "execution_count": 35,
     "metadata": {},
     "output_type": "execute_result"
    }
   ],
   "source": [
    "train.head()"
   ]
  },
  {
   "cell_type": "code",
   "execution_count": 36,
   "id": "a16b2bbb",
   "metadata": {
    "execution": {
     "iopub.execute_input": "2022-01-23T00:01:57.200263Z",
     "iopub.status.busy": "2022-01-23T00:01:57.199302Z",
     "iopub.status.idle": "2022-01-23T00:01:57.203015Z",
     "shell.execute_reply": "2022-01-23T00:01:57.203570Z",
     "shell.execute_reply.started": "2022-01-22T23:34:46.197586Z"
    },
    "papermill": {
     "duration": 0.086236,
     "end_time": "2022-01-23T00:01:57.203780",
     "exception": false,
     "start_time": "2022-01-23T00:01:57.117544",
     "status": "completed"
    },
    "tags": []
   },
   "outputs": [],
   "source": [
    " \n",
    "\n",
    "data_train = pd.concat([train, Airline, Source, Destination], axis = 1)"
   ]
  },
  {
   "cell_type": "code",
   "execution_count": 37,
   "id": "60c75b28",
   "metadata": {
    "execution": {
     "iopub.execute_input": "2022-01-23T00:01:57.360191Z",
     "iopub.status.busy": "2022-01-23T00:01:57.359199Z",
     "iopub.status.idle": "2022-01-23T00:01:57.378441Z",
     "shell.execute_reply": "2022-01-23T00:01:57.379045Z",
     "shell.execute_reply.started": "2022-01-22T23:34:46.370961Z"
    },
    "papermill": {
     "duration": 0.099638,
     "end_time": "2022-01-23T00:01:57.379230",
     "exception": false,
     "start_time": "2022-01-23T00:01:57.279592",
     "status": "completed"
    },
    "tags": []
   },
   "outputs": [
    {
     "data": {
      "text/html": [
       "<div>\n",
       "<style scoped>\n",
       "    .dataframe tbody tr th:only-of-type {\n",
       "        vertical-align: middle;\n",
       "    }\n",
       "\n",
       "    .dataframe tbody tr th {\n",
       "        vertical-align: top;\n",
       "    }\n",
       "\n",
       "    .dataframe thead th {\n",
       "        text-align: right;\n",
       "    }\n",
       "</style>\n",
       "<table border=\"1\" class=\"dataframe\">\n",
       "  <thead>\n",
       "    <tr style=\"text-align: right;\">\n",
       "      <th></th>\n",
       "      <th>Airline</th>\n",
       "      <th>Source</th>\n",
       "      <th>Destination</th>\n",
       "      <th>Total_Stops</th>\n",
       "      <th>Price</th>\n",
       "      <th>Journey_day</th>\n",
       "      <th>Journey_month</th>\n",
       "      <th>Dep_hour</th>\n",
       "      <th>Dep_min</th>\n",
       "      <th>Arrival_hour</th>\n",
       "      <th>Arrival_min</th>\n",
       "      <th>Duration_hours</th>\n",
       "      <th>Duration_mins</th>\n",
       "      <th>Airline_Air India</th>\n",
       "      <th>Airline_GoAir</th>\n",
       "      <th>Airline_IndiGo</th>\n",
       "      <th>Airline_Jet Airways</th>\n",
       "      <th>Airline_Jet Airways Business</th>\n",
       "      <th>Airline_Multiple carriers</th>\n",
       "      <th>Airline_Multiple carriers Premium economy</th>\n",
       "      <th>Airline_SpiceJet</th>\n",
       "      <th>Airline_Trujet</th>\n",
       "      <th>Airline_Vistara</th>\n",
       "      <th>Airline_Vistara Premium economy</th>\n",
       "      <th>Source_Chennai</th>\n",
       "      <th>Source_Delhi</th>\n",
       "      <th>Source_Kolkata</th>\n",
       "      <th>Source_Mumbai</th>\n",
       "      <th>Destination_Cochin</th>\n",
       "      <th>Destination_Delhi</th>\n",
       "      <th>Destination_Hyderabad</th>\n",
       "      <th>Destination_Kolkata</th>\n",
       "      <th>Destination_New Delhi</th>\n",
       "    </tr>\n",
       "  </thead>\n",
       "  <tbody>\n",
       "    <tr>\n",
       "      <th>0</th>\n",
       "      <td>IndiGo</td>\n",
       "      <td>Banglore</td>\n",
       "      <td>New Delhi</td>\n",
       "      <td>0</td>\n",
       "      <td>3897</td>\n",
       "      <td>24</td>\n",
       "      <td>3</td>\n",
       "      <td>22</td>\n",
       "      <td>20</td>\n",
       "      <td>1</td>\n",
       "      <td>10</td>\n",
       "      <td>2</td>\n",
       "      <td>50</td>\n",
       "      <td>0</td>\n",
       "      <td>0</td>\n",
       "      <td>1</td>\n",
       "      <td>0</td>\n",
       "      <td>0</td>\n",
       "      <td>0</td>\n",
       "      <td>0</td>\n",
       "      <td>0</td>\n",
       "      <td>0</td>\n",
       "      <td>0</td>\n",
       "      <td>0</td>\n",
       "      <td>0</td>\n",
       "      <td>0</td>\n",
       "      <td>0</td>\n",
       "      <td>0</td>\n",
       "      <td>0</td>\n",
       "      <td>0</td>\n",
       "      <td>0</td>\n",
       "      <td>0</td>\n",
       "      <td>1</td>\n",
       "    </tr>\n",
       "    <tr>\n",
       "      <th>1</th>\n",
       "      <td>Air India</td>\n",
       "      <td>Kolkata</td>\n",
       "      <td>Banglore</td>\n",
       "      <td>2</td>\n",
       "      <td>7662</td>\n",
       "      <td>1</td>\n",
       "      <td>5</td>\n",
       "      <td>5</td>\n",
       "      <td>50</td>\n",
       "      <td>13</td>\n",
       "      <td>15</td>\n",
       "      <td>7</td>\n",
       "      <td>25</td>\n",
       "      <td>1</td>\n",
       "      <td>0</td>\n",
       "      <td>0</td>\n",
       "      <td>0</td>\n",
       "      <td>0</td>\n",
       "      <td>0</td>\n",
       "      <td>0</td>\n",
       "      <td>0</td>\n",
       "      <td>0</td>\n",
       "      <td>0</td>\n",
       "      <td>0</td>\n",
       "      <td>0</td>\n",
       "      <td>0</td>\n",
       "      <td>1</td>\n",
       "      <td>0</td>\n",
       "      <td>0</td>\n",
       "      <td>0</td>\n",
       "      <td>0</td>\n",
       "      <td>0</td>\n",
       "      <td>0</td>\n",
       "    </tr>\n",
       "    <tr>\n",
       "      <th>2</th>\n",
       "      <td>Jet Airways</td>\n",
       "      <td>Delhi</td>\n",
       "      <td>Cochin</td>\n",
       "      <td>2</td>\n",
       "      <td>13882</td>\n",
       "      <td>9</td>\n",
       "      <td>6</td>\n",
       "      <td>9</td>\n",
       "      <td>25</td>\n",
       "      <td>4</td>\n",
       "      <td>25</td>\n",
       "      <td>19</td>\n",
       "      <td>0</td>\n",
       "      <td>0</td>\n",
       "      <td>0</td>\n",
       "      <td>0</td>\n",
       "      <td>1</td>\n",
       "      <td>0</td>\n",
       "      <td>0</td>\n",
       "      <td>0</td>\n",
       "      <td>0</td>\n",
       "      <td>0</td>\n",
       "      <td>0</td>\n",
       "      <td>0</td>\n",
       "      <td>0</td>\n",
       "      <td>1</td>\n",
       "      <td>0</td>\n",
       "      <td>0</td>\n",
       "      <td>1</td>\n",
       "      <td>0</td>\n",
       "      <td>0</td>\n",
       "      <td>0</td>\n",
       "      <td>0</td>\n",
       "    </tr>\n",
       "    <tr>\n",
       "      <th>3</th>\n",
       "      <td>IndiGo</td>\n",
       "      <td>Kolkata</td>\n",
       "      <td>Banglore</td>\n",
       "      <td>1</td>\n",
       "      <td>6218</td>\n",
       "      <td>12</td>\n",
       "      <td>5</td>\n",
       "      <td>18</td>\n",
       "      <td>5</td>\n",
       "      <td>23</td>\n",
       "      <td>30</td>\n",
       "      <td>5</td>\n",
       "      <td>25</td>\n",
       "      <td>0</td>\n",
       "      <td>0</td>\n",
       "      <td>1</td>\n",
       "      <td>0</td>\n",
       "      <td>0</td>\n",
       "      <td>0</td>\n",
       "      <td>0</td>\n",
       "      <td>0</td>\n",
       "      <td>0</td>\n",
       "      <td>0</td>\n",
       "      <td>0</td>\n",
       "      <td>0</td>\n",
       "      <td>0</td>\n",
       "      <td>1</td>\n",
       "      <td>0</td>\n",
       "      <td>0</td>\n",
       "      <td>0</td>\n",
       "      <td>0</td>\n",
       "      <td>0</td>\n",
       "      <td>0</td>\n",
       "    </tr>\n",
       "    <tr>\n",
       "      <th>4</th>\n",
       "      <td>IndiGo</td>\n",
       "      <td>Banglore</td>\n",
       "      <td>New Delhi</td>\n",
       "      <td>1</td>\n",
       "      <td>13302</td>\n",
       "      <td>1</td>\n",
       "      <td>3</td>\n",
       "      <td>16</td>\n",
       "      <td>50</td>\n",
       "      <td>21</td>\n",
       "      <td>35</td>\n",
       "      <td>4</td>\n",
       "      <td>45</td>\n",
       "      <td>0</td>\n",
       "      <td>0</td>\n",
       "      <td>1</td>\n",
       "      <td>0</td>\n",
       "      <td>0</td>\n",
       "      <td>0</td>\n",
       "      <td>0</td>\n",
       "      <td>0</td>\n",
       "      <td>0</td>\n",
       "      <td>0</td>\n",
       "      <td>0</td>\n",
       "      <td>0</td>\n",
       "      <td>0</td>\n",
       "      <td>0</td>\n",
       "      <td>0</td>\n",
       "      <td>0</td>\n",
       "      <td>0</td>\n",
       "      <td>0</td>\n",
       "      <td>0</td>\n",
       "      <td>1</td>\n",
       "    </tr>\n",
       "  </tbody>\n",
       "</table>\n",
       "</div>"
      ],
      "text/plain": [
       "       Airline    Source Destination  Total_Stops  Price  Journey_day  \\\n",
       "0       IndiGo  Banglore   New Delhi            0   3897           24   \n",
       "1    Air India   Kolkata    Banglore            2   7662            1   \n",
       "2  Jet Airways     Delhi      Cochin            2  13882            9   \n",
       "3       IndiGo   Kolkata    Banglore            1   6218           12   \n",
       "4       IndiGo  Banglore   New Delhi            1  13302            1   \n",
       "\n",
       "   Journey_month  Dep_hour  Dep_min  Arrival_hour  Arrival_min  \\\n",
       "0              3        22       20             1           10   \n",
       "1              5         5       50            13           15   \n",
       "2              6         9       25             4           25   \n",
       "3              5        18        5            23           30   \n",
       "4              3        16       50            21           35   \n",
       "\n",
       "   Duration_hours  Duration_mins  Airline_Air India  Airline_GoAir  \\\n",
       "0               2             50                  0              0   \n",
       "1               7             25                  1              0   \n",
       "2              19              0                  0              0   \n",
       "3               5             25                  0              0   \n",
       "4               4             45                  0              0   \n",
       "\n",
       "   Airline_IndiGo  Airline_Jet Airways  Airline_Jet Airways Business  \\\n",
       "0               1                    0                             0   \n",
       "1               0                    0                             0   \n",
       "2               0                    1                             0   \n",
       "3               1                    0                             0   \n",
       "4               1                    0                             0   \n",
       "\n",
       "   Airline_Multiple carriers  Airline_Multiple carriers Premium economy  \\\n",
       "0                          0                                          0   \n",
       "1                          0                                          0   \n",
       "2                          0                                          0   \n",
       "3                          0                                          0   \n",
       "4                          0                                          0   \n",
       "\n",
       "   Airline_SpiceJet  Airline_Trujet  Airline_Vistara  \\\n",
       "0                 0               0                0   \n",
       "1                 0               0                0   \n",
       "2                 0               0                0   \n",
       "3                 0               0                0   \n",
       "4                 0               0                0   \n",
       "\n",
       "   Airline_Vistara Premium economy  Source_Chennai  Source_Delhi  \\\n",
       "0                                0               0             0   \n",
       "1                                0               0             0   \n",
       "2                                0               0             1   \n",
       "3                                0               0             0   \n",
       "4                                0               0             0   \n",
       "\n",
       "   Source_Kolkata  Source_Mumbai  Destination_Cochin  Destination_Delhi  \\\n",
       "0               0              0                   0                  0   \n",
       "1               1              0                   0                  0   \n",
       "2               0              0                   1                  0   \n",
       "3               1              0                   0                  0   \n",
       "4               0              0                   0                  0   \n",
       "\n",
       "   Destination_Hyderabad  Destination_Kolkata  Destination_New Delhi  \n",
       "0                      0                    0                      1  \n",
       "1                      0                    0                      0  \n",
       "2                      0                    0                      0  \n",
       "3                      0                    0                      0  \n",
       "4                      0                    0                      1  "
      ]
     },
     "execution_count": 37,
     "metadata": {},
     "output_type": "execute_result"
    }
   ],
   "source": [
    "data_train.head()"
   ]
  },
  {
   "cell_type": "code",
   "execution_count": 38,
   "id": "d1862af6",
   "metadata": {
    "execution": {
     "iopub.execute_input": "2022-01-23T00:01:57.691315Z",
     "iopub.status.busy": "2022-01-23T00:01:57.690324Z",
     "iopub.status.idle": "2022-01-23T00:01:57.696717Z",
     "shell.execute_reply": "2022-01-23T00:01:57.697242Z",
     "shell.execute_reply.started": "2022-01-22T23:34:46.641198Z"
    },
    "papermill": {
     "duration": 0.088225,
     "end_time": "2022-01-23T00:01:57.697414",
     "exception": false,
     "start_time": "2022-01-23T00:01:57.609189",
     "status": "completed"
    },
    "tags": []
   },
   "outputs": [],
   "source": [
    "data_train.drop([\"Airline\", \"Source\", \"Destination\"], axis = 1, inplace = True)"
   ]
  },
  {
   "cell_type": "code",
   "execution_count": 39,
   "id": "21da624e",
   "metadata": {
    "execution": {
     "iopub.execute_input": "2022-01-23T00:01:57.854612Z",
     "iopub.status.busy": "2022-01-23T00:01:57.853696Z",
     "iopub.status.idle": "2022-01-23T00:01:57.871173Z",
     "shell.execute_reply": "2022-01-23T00:01:57.871629Z",
     "shell.execute_reply.started": "2022-01-22T23:34:46.758485Z"
    },
    "papermill": {
     "duration": 0.09806,
     "end_time": "2022-01-23T00:01:57.871813",
     "exception": false,
     "start_time": "2022-01-23T00:01:57.773753",
     "status": "completed"
    },
    "tags": []
   },
   "outputs": [
    {
     "data": {
      "text/html": [
       "<div>\n",
       "<style scoped>\n",
       "    .dataframe tbody tr th:only-of-type {\n",
       "        vertical-align: middle;\n",
       "    }\n",
       "\n",
       "    .dataframe tbody tr th {\n",
       "        vertical-align: top;\n",
       "    }\n",
       "\n",
       "    .dataframe thead th {\n",
       "        text-align: right;\n",
       "    }\n",
       "</style>\n",
       "<table border=\"1\" class=\"dataframe\">\n",
       "  <thead>\n",
       "    <tr style=\"text-align: right;\">\n",
       "      <th></th>\n",
       "      <th>Total_Stops</th>\n",
       "      <th>Price</th>\n",
       "      <th>Journey_day</th>\n",
       "      <th>Journey_month</th>\n",
       "      <th>Dep_hour</th>\n",
       "      <th>Dep_min</th>\n",
       "      <th>Arrival_hour</th>\n",
       "      <th>Arrival_min</th>\n",
       "      <th>Duration_hours</th>\n",
       "      <th>Duration_mins</th>\n",
       "      <th>Airline_Air India</th>\n",
       "      <th>Airline_GoAir</th>\n",
       "      <th>Airline_IndiGo</th>\n",
       "      <th>Airline_Jet Airways</th>\n",
       "      <th>Airline_Jet Airways Business</th>\n",
       "      <th>Airline_Multiple carriers</th>\n",
       "      <th>Airline_Multiple carriers Premium economy</th>\n",
       "      <th>Airline_SpiceJet</th>\n",
       "      <th>Airline_Trujet</th>\n",
       "      <th>Airline_Vistara</th>\n",
       "      <th>Airline_Vistara Premium economy</th>\n",
       "      <th>Source_Chennai</th>\n",
       "      <th>Source_Delhi</th>\n",
       "      <th>Source_Kolkata</th>\n",
       "      <th>Source_Mumbai</th>\n",
       "      <th>Destination_Cochin</th>\n",
       "      <th>Destination_Delhi</th>\n",
       "      <th>Destination_Hyderabad</th>\n",
       "      <th>Destination_Kolkata</th>\n",
       "      <th>Destination_New Delhi</th>\n",
       "    </tr>\n",
       "  </thead>\n",
       "  <tbody>\n",
       "    <tr>\n",
       "      <th>0</th>\n",
       "      <td>0</td>\n",
       "      <td>3897</td>\n",
       "      <td>24</td>\n",
       "      <td>3</td>\n",
       "      <td>22</td>\n",
       "      <td>20</td>\n",
       "      <td>1</td>\n",
       "      <td>10</td>\n",
       "      <td>2</td>\n",
       "      <td>50</td>\n",
       "      <td>0</td>\n",
       "      <td>0</td>\n",
       "      <td>1</td>\n",
       "      <td>0</td>\n",
       "      <td>0</td>\n",
       "      <td>0</td>\n",
       "      <td>0</td>\n",
       "      <td>0</td>\n",
       "      <td>0</td>\n",
       "      <td>0</td>\n",
       "      <td>0</td>\n",
       "      <td>0</td>\n",
       "      <td>0</td>\n",
       "      <td>0</td>\n",
       "      <td>0</td>\n",
       "      <td>0</td>\n",
       "      <td>0</td>\n",
       "      <td>0</td>\n",
       "      <td>0</td>\n",
       "      <td>1</td>\n",
       "    </tr>\n",
       "    <tr>\n",
       "      <th>1</th>\n",
       "      <td>2</td>\n",
       "      <td>7662</td>\n",
       "      <td>1</td>\n",
       "      <td>5</td>\n",
       "      <td>5</td>\n",
       "      <td>50</td>\n",
       "      <td>13</td>\n",
       "      <td>15</td>\n",
       "      <td>7</td>\n",
       "      <td>25</td>\n",
       "      <td>1</td>\n",
       "      <td>0</td>\n",
       "      <td>0</td>\n",
       "      <td>0</td>\n",
       "      <td>0</td>\n",
       "      <td>0</td>\n",
       "      <td>0</td>\n",
       "      <td>0</td>\n",
       "      <td>0</td>\n",
       "      <td>0</td>\n",
       "      <td>0</td>\n",
       "      <td>0</td>\n",
       "      <td>0</td>\n",
       "      <td>1</td>\n",
       "      <td>0</td>\n",
       "      <td>0</td>\n",
       "      <td>0</td>\n",
       "      <td>0</td>\n",
       "      <td>0</td>\n",
       "      <td>0</td>\n",
       "    </tr>\n",
       "    <tr>\n",
       "      <th>2</th>\n",
       "      <td>2</td>\n",
       "      <td>13882</td>\n",
       "      <td>9</td>\n",
       "      <td>6</td>\n",
       "      <td>9</td>\n",
       "      <td>25</td>\n",
       "      <td>4</td>\n",
       "      <td>25</td>\n",
       "      <td>19</td>\n",
       "      <td>0</td>\n",
       "      <td>0</td>\n",
       "      <td>0</td>\n",
       "      <td>0</td>\n",
       "      <td>1</td>\n",
       "      <td>0</td>\n",
       "      <td>0</td>\n",
       "      <td>0</td>\n",
       "      <td>0</td>\n",
       "      <td>0</td>\n",
       "      <td>0</td>\n",
       "      <td>0</td>\n",
       "      <td>0</td>\n",
       "      <td>1</td>\n",
       "      <td>0</td>\n",
       "      <td>0</td>\n",
       "      <td>1</td>\n",
       "      <td>0</td>\n",
       "      <td>0</td>\n",
       "      <td>0</td>\n",
       "      <td>0</td>\n",
       "    </tr>\n",
       "    <tr>\n",
       "      <th>3</th>\n",
       "      <td>1</td>\n",
       "      <td>6218</td>\n",
       "      <td>12</td>\n",
       "      <td>5</td>\n",
       "      <td>18</td>\n",
       "      <td>5</td>\n",
       "      <td>23</td>\n",
       "      <td>30</td>\n",
       "      <td>5</td>\n",
       "      <td>25</td>\n",
       "      <td>0</td>\n",
       "      <td>0</td>\n",
       "      <td>1</td>\n",
       "      <td>0</td>\n",
       "      <td>0</td>\n",
       "      <td>0</td>\n",
       "      <td>0</td>\n",
       "      <td>0</td>\n",
       "      <td>0</td>\n",
       "      <td>0</td>\n",
       "      <td>0</td>\n",
       "      <td>0</td>\n",
       "      <td>0</td>\n",
       "      <td>1</td>\n",
       "      <td>0</td>\n",
       "      <td>0</td>\n",
       "      <td>0</td>\n",
       "      <td>0</td>\n",
       "      <td>0</td>\n",
       "      <td>0</td>\n",
       "    </tr>\n",
       "    <tr>\n",
       "      <th>4</th>\n",
       "      <td>1</td>\n",
       "      <td>13302</td>\n",
       "      <td>1</td>\n",
       "      <td>3</td>\n",
       "      <td>16</td>\n",
       "      <td>50</td>\n",
       "      <td>21</td>\n",
       "      <td>35</td>\n",
       "      <td>4</td>\n",
       "      <td>45</td>\n",
       "      <td>0</td>\n",
       "      <td>0</td>\n",
       "      <td>1</td>\n",
       "      <td>0</td>\n",
       "      <td>0</td>\n",
       "      <td>0</td>\n",
       "      <td>0</td>\n",
       "      <td>0</td>\n",
       "      <td>0</td>\n",
       "      <td>0</td>\n",
       "      <td>0</td>\n",
       "      <td>0</td>\n",
       "      <td>0</td>\n",
       "      <td>0</td>\n",
       "      <td>0</td>\n",
       "      <td>0</td>\n",
       "      <td>0</td>\n",
       "      <td>0</td>\n",
       "      <td>0</td>\n",
       "      <td>1</td>\n",
       "    </tr>\n",
       "  </tbody>\n",
       "</table>\n",
       "</div>"
      ],
      "text/plain": [
       "   Total_Stops  Price  Journey_day  Journey_month  Dep_hour  Dep_min  \\\n",
       "0            0   3897           24              3        22       20   \n",
       "1            2   7662            1              5         5       50   \n",
       "2            2  13882            9              6         9       25   \n",
       "3            1   6218           12              5        18        5   \n",
       "4            1  13302            1              3        16       50   \n",
       "\n",
       "   Arrival_hour  Arrival_min  Duration_hours  Duration_mins  \\\n",
       "0             1           10               2             50   \n",
       "1            13           15               7             25   \n",
       "2             4           25              19              0   \n",
       "3            23           30               5             25   \n",
       "4            21           35               4             45   \n",
       "\n",
       "   Airline_Air India  Airline_GoAir  Airline_IndiGo  Airline_Jet Airways  \\\n",
       "0                  0              0               1                    0   \n",
       "1                  1              0               0                    0   \n",
       "2                  0              0               0                    1   \n",
       "3                  0              0               1                    0   \n",
       "4                  0              0               1                    0   \n",
       "\n",
       "   Airline_Jet Airways Business  Airline_Multiple carriers  \\\n",
       "0                             0                          0   \n",
       "1                             0                          0   \n",
       "2                             0                          0   \n",
       "3                             0                          0   \n",
       "4                             0                          0   \n",
       "\n",
       "   Airline_Multiple carriers Premium economy  Airline_SpiceJet  \\\n",
       "0                                          0                 0   \n",
       "1                                          0                 0   \n",
       "2                                          0                 0   \n",
       "3                                          0                 0   \n",
       "4                                          0                 0   \n",
       "\n",
       "   Airline_Trujet  Airline_Vistara  Airline_Vistara Premium economy  \\\n",
       "0               0                0                                0   \n",
       "1               0                0                                0   \n",
       "2               0                0                                0   \n",
       "3               0                0                                0   \n",
       "4               0                0                                0   \n",
       "\n",
       "   Source_Chennai  Source_Delhi  Source_Kolkata  Source_Mumbai  \\\n",
       "0               0             0               0              0   \n",
       "1               0             0               1              0   \n",
       "2               0             1               0              0   \n",
       "3               0             0               1              0   \n",
       "4               0             0               0              0   \n",
       "\n",
       "   Destination_Cochin  Destination_Delhi  Destination_Hyderabad  \\\n",
       "0                   0                  0                      0   \n",
       "1                   0                  0                      0   \n",
       "2                   1                  0                      0   \n",
       "3                   0                  0                      0   \n",
       "4                   0                  0                      0   \n",
       "\n",
       "   Destination_Kolkata  Destination_New Delhi  \n",
       "0                    0                      1  \n",
       "1                    0                      0  \n",
       "2                    0                      0  \n",
       "3                    0                      0  \n",
       "4                    0                      1  "
      ]
     },
     "execution_count": 39,
     "metadata": {},
     "output_type": "execute_result"
    }
   ],
   "source": [
    "data_train.head()"
   ]
  },
  {
   "cell_type": "code",
   "execution_count": 40,
   "id": "75815272",
   "metadata": {
    "execution": {
     "iopub.execute_input": "2022-01-23T00:01:58.031380Z",
     "iopub.status.busy": "2022-01-23T00:01:58.030710Z",
     "iopub.status.idle": "2022-01-23T00:01:58.033363Z",
     "shell.execute_reply": "2022-01-23T00:01:58.033861Z",
     "shell.execute_reply.started": "2022-01-22T23:34:46.945214Z"
    },
    "papermill": {
     "duration": 0.085055,
     "end_time": "2022-01-23T00:01:58.034030",
     "exception": false,
     "start_time": "2022-01-23T00:01:57.948975",
     "status": "completed"
    },
    "tags": []
   },
   "outputs": [
    {
     "data": {
      "text/plain": [
       "(10682, 30)"
      ]
     },
     "execution_count": 40,
     "metadata": {},
     "output_type": "execute_result"
    }
   ],
   "source": [
    "data_train.shape"
   ]
  },
  {
   "cell_type": "markdown",
   "id": "142e05e5",
   "metadata": {
    "papermill": {
     "duration": 0.077629,
     "end_time": "2022-01-23T00:01:58.190330",
     "exception": false,
     "start_time": "2022-01-23T00:01:58.112701",
     "status": "completed"
    },
    "tags": []
   },
   "source": [
    "---"
   ]
  },
  {
   "cell_type": "code",
   "execution_count": 42,
   "id": "5280ac1d",
   "metadata": {
    "execution": {
     "iopub.execute_input": "2022-01-23T00:01:58.510468Z",
     "iopub.status.busy": "2022-01-23T00:01:58.509879Z",
     "iopub.status.idle": "2022-01-23T00:01:58.981555Z",
     "shell.execute_reply": "2022-01-23T00:01:58.981080Z",
     "shell.execute_reply.started": "2022-01-22T23:34:48.234433Z"
    },
    "papermill": {
     "duration": 0.55297,
     "end_time": "2022-01-23T00:01:58.981722",
     "exception": false,
     "start_time": "2022-01-23T00:01:58.428752",
     "status": "completed"
    },
    "tags": []
   },
   "outputs": [],
   "source": [
    "test = pd.read_excel(r\"C:\\Users\\admin\\Desktop\\flight\\Test_set.xlsx\")"
   ]
  },
  {
   "cell_type": "code",
   "execution_count": 43,
   "id": "38dd4d20",
   "metadata": {
    "execution": {
     "iopub.execute_input": "2022-01-23T00:01:59.140397Z",
     "iopub.status.busy": "2022-01-23T00:01:59.139793Z",
     "iopub.status.idle": "2022-01-23T00:01:59.153886Z",
     "shell.execute_reply": "2022-01-23T00:01:59.153283Z",
     "shell.execute_reply.started": "2022-01-22T23:34:49.020579Z"
    },
    "papermill": {
     "duration": 0.094081,
     "end_time": "2022-01-23T00:01:59.154023",
     "exception": false,
     "start_time": "2022-01-23T00:01:59.059942",
     "status": "completed"
    },
    "tags": []
   },
   "outputs": [
    {
     "data": {
      "text/html": [
       "<div>\n",
       "<style scoped>\n",
       "    .dataframe tbody tr th:only-of-type {\n",
       "        vertical-align: middle;\n",
       "    }\n",
       "\n",
       "    .dataframe tbody tr th {\n",
       "        vertical-align: top;\n",
       "    }\n",
       "\n",
       "    .dataframe thead th {\n",
       "        text-align: right;\n",
       "    }\n",
       "</style>\n",
       "<table border=\"1\" class=\"dataframe\">\n",
       "  <thead>\n",
       "    <tr style=\"text-align: right;\">\n",
       "      <th></th>\n",
       "      <th>Airline</th>\n",
       "      <th>Date_of_Journey</th>\n",
       "      <th>Source</th>\n",
       "      <th>Destination</th>\n",
       "      <th>Route</th>\n",
       "      <th>Dep_Time</th>\n",
       "      <th>Arrival_Time</th>\n",
       "      <th>Duration</th>\n",
       "      <th>Total_Stops</th>\n",
       "      <th>Additional_Info</th>\n",
       "    </tr>\n",
       "  </thead>\n",
       "  <tbody>\n",
       "    <tr>\n",
       "      <th>0</th>\n",
       "      <td>Jet Airways</td>\n",
       "      <td>6/06/2019</td>\n",
       "      <td>Delhi</td>\n",
       "      <td>Cochin</td>\n",
       "      <td>DEL → BOM → COK</td>\n",
       "      <td>17:30</td>\n",
       "      <td>04:25 07 Jun</td>\n",
       "      <td>10h 55m</td>\n",
       "      <td>1 stop</td>\n",
       "      <td>No info</td>\n",
       "    </tr>\n",
       "    <tr>\n",
       "      <th>1</th>\n",
       "      <td>IndiGo</td>\n",
       "      <td>12/05/2019</td>\n",
       "      <td>Kolkata</td>\n",
       "      <td>Banglore</td>\n",
       "      <td>CCU → MAA → BLR</td>\n",
       "      <td>06:20</td>\n",
       "      <td>10:20</td>\n",
       "      <td>4h</td>\n",
       "      <td>1 stop</td>\n",
       "      <td>No info</td>\n",
       "    </tr>\n",
       "    <tr>\n",
       "      <th>2</th>\n",
       "      <td>Jet Airways</td>\n",
       "      <td>21/05/2019</td>\n",
       "      <td>Delhi</td>\n",
       "      <td>Cochin</td>\n",
       "      <td>DEL → BOM → COK</td>\n",
       "      <td>19:15</td>\n",
       "      <td>19:00 22 May</td>\n",
       "      <td>23h 45m</td>\n",
       "      <td>1 stop</td>\n",
       "      <td>In-flight meal not included</td>\n",
       "    </tr>\n",
       "    <tr>\n",
       "      <th>3</th>\n",
       "      <td>Multiple carriers</td>\n",
       "      <td>21/05/2019</td>\n",
       "      <td>Delhi</td>\n",
       "      <td>Cochin</td>\n",
       "      <td>DEL → BOM → COK</td>\n",
       "      <td>08:00</td>\n",
       "      <td>21:00</td>\n",
       "      <td>13h</td>\n",
       "      <td>1 stop</td>\n",
       "      <td>No info</td>\n",
       "    </tr>\n",
       "    <tr>\n",
       "      <th>4</th>\n",
       "      <td>Air Asia</td>\n",
       "      <td>24/06/2019</td>\n",
       "      <td>Banglore</td>\n",
       "      <td>Delhi</td>\n",
       "      <td>BLR → DEL</td>\n",
       "      <td>23:55</td>\n",
       "      <td>02:45 25 Jun</td>\n",
       "      <td>2h 50m</td>\n",
       "      <td>non-stop</td>\n",
       "      <td>No info</td>\n",
       "    </tr>\n",
       "  </tbody>\n",
       "</table>\n",
       "</div>"
      ],
      "text/plain": [
       "             Airline Date_of_Journey    Source Destination            Route  \\\n",
       "0        Jet Airways       6/06/2019     Delhi      Cochin  DEL → BOM → COK   \n",
       "1             IndiGo      12/05/2019   Kolkata    Banglore  CCU → MAA → BLR   \n",
       "2        Jet Airways      21/05/2019     Delhi      Cochin  DEL → BOM → COK   \n",
       "3  Multiple carriers      21/05/2019     Delhi      Cochin  DEL → BOM → COK   \n",
       "4           Air Asia      24/06/2019  Banglore       Delhi        BLR → DEL   \n",
       "\n",
       "  Dep_Time  Arrival_Time Duration Total_Stops              Additional_Info  \n",
       "0    17:30  04:25 07 Jun  10h 55m      1 stop                      No info  \n",
       "1    06:20         10:20       4h      1 stop                      No info  \n",
       "2    19:15  19:00 22 May  23h 45m      1 stop  In-flight meal not included  \n",
       "3    08:00         21:00      13h      1 stop                      No info  \n",
       "4    23:55  02:45 25 Jun   2h 50m    non-stop                      No info  "
      ]
     },
     "execution_count": 43,
     "metadata": {},
     "output_type": "execute_result"
    }
   ],
   "source": [
    "test.head()"
   ]
  },
  {
   "cell_type": "code",
   "execution_count": 44,
   "id": "42744e4e",
   "metadata": {
    "_kg_hide-output": true,
    "execution": {
     "iopub.execute_input": "2022-01-23T00:01:59.313873Z",
     "iopub.status.busy": "2022-01-23T00:01:59.313237Z",
     "iopub.status.idle": "2022-01-23T00:01:59.486828Z",
     "shell.execute_reply": "2022-01-23T00:01:59.486277Z",
     "shell.execute_reply.started": "2022-01-22T23:34:49.040148Z"
    },
    "papermill": {
     "duration": 0.255039,
     "end_time": "2022-01-23T00:01:59.486985",
     "exception": false,
     "start_time": "2022-01-23T00:01:59.231946",
     "status": "completed"
    },
    "tags": []
   },
   "outputs": [
    {
     "name": "stdout",
     "output_type": "stream",
     "text": [
      "Test data Info\n",
      "---------------------------------------------------------------------------\n",
      "<class 'pandas.core.frame.DataFrame'>\n",
      "RangeIndex: 2671 entries, 0 to 2670\n",
      "Data columns (total 10 columns):\n",
      " #   Column           Non-Null Count  Dtype \n",
      "---  ------           --------------  ----- \n",
      " 0   Airline          2671 non-null   object\n",
      " 1   Date_of_Journey  2671 non-null   object\n",
      " 2   Source           2671 non-null   object\n",
      " 3   Destination      2671 non-null   object\n",
      " 4   Route            2671 non-null   object\n",
      " 5   Dep_Time         2671 non-null   object\n",
      " 6   Arrival_Time     2671 non-null   object\n",
      " 7   Duration         2671 non-null   object\n",
      " 8   Total_Stops      2671 non-null   object\n",
      " 9   Additional_Info  2671 non-null   object\n",
      "dtypes: object(10)\n",
      "memory usage: 208.8+ KB\n",
      "None\n",
      "\n",
      "\n",
      "Null values :\n",
      "---------------------------------------------------------------------------\n",
      "Airline            0\n",
      "Date_of_Journey    0\n",
      "Source             0\n",
      "Destination        0\n",
      "Route              0\n",
      "Dep_Time           0\n",
      "Arrival_Time       0\n",
      "Duration           0\n",
      "Total_Stops        0\n",
      "Additional_Info    0\n",
      "dtype: int64\n",
      "Airline\n",
      "---------------------------------------------------------------------------\n",
      "Jet Airways                          897\n",
      "IndiGo                               511\n",
      "Air India                            440\n",
      "Multiple carriers                    347\n",
      "SpiceJet                             208\n",
      "Vistara                              129\n",
      "Air Asia                              86\n",
      "GoAir                                 46\n",
      "Multiple carriers Premium economy      3\n",
      "Vistara Premium economy                2\n",
      "Jet Airways Business                   2\n",
      "Name: Airline, dtype: int64\n",
      "\n",
      "Source\n",
      "---------------------------------------------------------------------------\n",
      "Delhi       1145\n",
      "Kolkata      710\n",
      "Banglore     555\n",
      "Mumbai       186\n",
      "Chennai       75\n",
      "Name: Source, dtype: int64\n",
      "\n",
      "Destination\n",
      "---------------------------------------------------------------------------\n",
      "Cochin       1145\n",
      "Banglore      710\n",
      "Delhi         317\n",
      "New Delhi     238\n",
      "Hyderabad     186\n",
      "Kolkata        75\n",
      "Name: Destination, dtype: int64\n",
      "\n",
      "\n",
      "Shape of test data :  (2671, 28)\n"
     ]
    }
   ],
   "source": [
    " \n",
    "\n",
    "print(\"Test data Info\")\n",
    "print(\"-\"*75)\n",
    "print(test.info())\n",
    "\n",
    "print()\n",
    "print()\n",
    "\n",
    "print(\"Null values :\")\n",
    "print(\"-\"*75)\n",
    "test.dropna(inplace = True)\n",
    "print(test.isnull().sum())\n",
    "\n",
    " \n",
    "\n",
    " \n",
    "test[\"Journey_day\"] = pd.to_datetime(test.Date_of_Journey, format=\"%d/%m/%Y\").dt.day\n",
    "test[\"Journey_month\"] = pd.to_datetime(test[\"Date_of_Journey\"], format = \"%d/%m/%Y\").dt.month\n",
    "test.drop([\"Date_of_Journey\"], axis = 1, inplace = True)\n",
    "\n",
    " \n",
    "test[\"Dep_hour\"] = pd.to_datetime(test[\"Dep_Time\"]).dt.hour\n",
    "test[\"Dep_min\"] = pd.to_datetime(test[\"Dep_Time\"]).dt.minute\n",
    "test.drop([\"Dep_Time\"], axis = 1, inplace = True)\n",
    "\n",
    " \n",
    "test[\"Arrival_hour\"] = pd.to_datetime(test.Arrival_Time).dt.hour\n",
    "test[\"Arrival_min\"] = pd.to_datetime(test.Arrival_Time).dt.minute\n",
    "test.drop([\"Arrival_Time\"], axis = 1, inplace = True)\n",
    "\n",
    " \n",
    "duration = list(test[\"Duration\"])\n",
    "\n",
    "for i in range(len(duration)):\n",
    "    if len(duration[i].split()) != 2:     \n",
    "        if \"h\" in duration[i]:\n",
    "            duration[i] = duration[i].strip() + \" 0m\"    \n",
    "        else:\n",
    "            duration[i] = \"0h \" + duration[i]            \n",
    "\n",
    "duration_hours = []\n",
    "duration_mins = []\n",
    "for i in range(len(duration)):\n",
    "    duration_hours.append(int(duration[i].split(sep = \"h\")[0]))     \n",
    "    duration_mins.append(int(duration[i].split(sep = \"m\")[0].split()[-1]))    \n",
    "\n",
    " \n",
    "test[\"Duration_hours\"] = duration_hours\n",
    "test[\"Duration_mins\"] = duration_mins\n",
    "test.drop([\"Duration\"], axis = 1, inplace = True)\n",
    "\n",
    "\n",
    " \n",
    "\n",
    "print(\"Airline\")\n",
    "print(\"-\"*75)\n",
    "print(test[\"Airline\"].value_counts())\n",
    "Airline = pd.get_dummies(test[\"Airline\"], drop_first= True)\n",
    "\n",
    "print()\n",
    "\n",
    "print(\"Source\")\n",
    "print(\"-\"*75)\n",
    "print(test[\"Source\"].value_counts())\n",
    "Source = pd.get_dummies(test[\"Source\"], drop_first= True)\n",
    "\n",
    "print()\n",
    "\n",
    "print(\"Destination\")\n",
    "print(\"-\"*75)\n",
    "print(test[\"Destination\"].value_counts())\n",
    "Destination = pd.get_dummies(test[\"Destination\"], drop_first = True)\n",
    "\n",
    " \n",
    " \n",
    "test.drop([\"Route\", \"Additional_Info\"], axis = 1, inplace = True)\n",
    "\n",
    " \n",
    "test.replace({\"non-stop\": 0, \"1 stop\": 1, \"2 stops\": 2, \"3 stops\": 3, \"4 stops\": 4}, inplace = True)\n",
    "\n",
    " \n",
    "data_test = pd.concat([test, Airline, Source, Destination], axis = 1)\n",
    "\n",
    "data_test.drop([\"Airline\", \"Source\", \"Destination\"], axis = 1, inplace = True)\n",
    "\n",
    "print()\n",
    "print()\n",
    "\n",
    "print(\"Shape of test data : \", data_test.shape)\n",
    "\n"
   ]
  },
  {
   "cell_type": "code",
   "execution_count": 45,
   "id": "4e23f56a",
   "metadata": {
    "execution": {
     "iopub.execute_input": "2022-01-23T00:01:59.646780Z",
     "iopub.status.busy": "2022-01-23T00:01:59.646155Z",
     "iopub.status.idle": "2022-01-23T00:01:59.661793Z",
     "shell.execute_reply": "2022-01-23T00:01:59.662214Z",
     "shell.execute_reply.started": "2022-01-22T23:34:49.256713Z"
    },
    "papermill": {
     "duration": 0.096685,
     "end_time": "2022-01-23T00:01:59.662384",
     "exception": false,
     "start_time": "2022-01-23T00:01:59.565699",
     "status": "completed"
    },
    "tags": []
   },
   "outputs": [
    {
     "data": {
      "text/html": [
       "<div>\n",
       "<style scoped>\n",
       "    .dataframe tbody tr th:only-of-type {\n",
       "        vertical-align: middle;\n",
       "    }\n",
       "\n",
       "    .dataframe tbody tr th {\n",
       "        vertical-align: top;\n",
       "    }\n",
       "\n",
       "    .dataframe thead th {\n",
       "        text-align: right;\n",
       "    }\n",
       "</style>\n",
       "<table border=\"1\" class=\"dataframe\">\n",
       "  <thead>\n",
       "    <tr style=\"text-align: right;\">\n",
       "      <th></th>\n",
       "      <th>Total_Stops</th>\n",
       "      <th>Journey_day</th>\n",
       "      <th>Journey_month</th>\n",
       "      <th>Dep_hour</th>\n",
       "      <th>Dep_min</th>\n",
       "      <th>Arrival_hour</th>\n",
       "      <th>Arrival_min</th>\n",
       "      <th>Duration_hours</th>\n",
       "      <th>Duration_mins</th>\n",
       "      <th>Air India</th>\n",
       "      <th>GoAir</th>\n",
       "      <th>IndiGo</th>\n",
       "      <th>Jet Airways</th>\n",
       "      <th>Jet Airways Business</th>\n",
       "      <th>Multiple carriers</th>\n",
       "      <th>Multiple carriers Premium economy</th>\n",
       "      <th>SpiceJet</th>\n",
       "      <th>Vistara</th>\n",
       "      <th>Vistara Premium economy</th>\n",
       "      <th>Chennai</th>\n",
       "      <th>Delhi</th>\n",
       "      <th>Kolkata</th>\n",
       "      <th>Mumbai</th>\n",
       "      <th>Cochin</th>\n",
       "      <th>Delhi</th>\n",
       "      <th>Hyderabad</th>\n",
       "      <th>Kolkata</th>\n",
       "      <th>New Delhi</th>\n",
       "    </tr>\n",
       "  </thead>\n",
       "  <tbody>\n",
       "    <tr>\n",
       "      <th>0</th>\n",
       "      <td>1</td>\n",
       "      <td>6</td>\n",
       "      <td>6</td>\n",
       "      <td>17</td>\n",
       "      <td>30</td>\n",
       "      <td>4</td>\n",
       "      <td>25</td>\n",
       "      <td>10</td>\n",
       "      <td>55</td>\n",
       "      <td>0</td>\n",
       "      <td>0</td>\n",
       "      <td>0</td>\n",
       "      <td>1</td>\n",
       "      <td>0</td>\n",
       "      <td>0</td>\n",
       "      <td>0</td>\n",
       "      <td>0</td>\n",
       "      <td>0</td>\n",
       "      <td>0</td>\n",
       "      <td>0</td>\n",
       "      <td>1</td>\n",
       "      <td>0</td>\n",
       "      <td>0</td>\n",
       "      <td>1</td>\n",
       "      <td>0</td>\n",
       "      <td>0</td>\n",
       "      <td>0</td>\n",
       "      <td>0</td>\n",
       "    </tr>\n",
       "    <tr>\n",
       "      <th>1</th>\n",
       "      <td>1</td>\n",
       "      <td>12</td>\n",
       "      <td>5</td>\n",
       "      <td>6</td>\n",
       "      <td>20</td>\n",
       "      <td>10</td>\n",
       "      <td>20</td>\n",
       "      <td>4</td>\n",
       "      <td>0</td>\n",
       "      <td>0</td>\n",
       "      <td>0</td>\n",
       "      <td>1</td>\n",
       "      <td>0</td>\n",
       "      <td>0</td>\n",
       "      <td>0</td>\n",
       "      <td>0</td>\n",
       "      <td>0</td>\n",
       "      <td>0</td>\n",
       "      <td>0</td>\n",
       "      <td>0</td>\n",
       "      <td>0</td>\n",
       "      <td>1</td>\n",
       "      <td>0</td>\n",
       "      <td>0</td>\n",
       "      <td>0</td>\n",
       "      <td>0</td>\n",
       "      <td>0</td>\n",
       "      <td>0</td>\n",
       "    </tr>\n",
       "    <tr>\n",
       "      <th>2</th>\n",
       "      <td>1</td>\n",
       "      <td>21</td>\n",
       "      <td>5</td>\n",
       "      <td>19</td>\n",
       "      <td>15</td>\n",
       "      <td>19</td>\n",
       "      <td>0</td>\n",
       "      <td>23</td>\n",
       "      <td>45</td>\n",
       "      <td>0</td>\n",
       "      <td>0</td>\n",
       "      <td>0</td>\n",
       "      <td>1</td>\n",
       "      <td>0</td>\n",
       "      <td>0</td>\n",
       "      <td>0</td>\n",
       "      <td>0</td>\n",
       "      <td>0</td>\n",
       "      <td>0</td>\n",
       "      <td>0</td>\n",
       "      <td>1</td>\n",
       "      <td>0</td>\n",
       "      <td>0</td>\n",
       "      <td>1</td>\n",
       "      <td>0</td>\n",
       "      <td>0</td>\n",
       "      <td>0</td>\n",
       "      <td>0</td>\n",
       "    </tr>\n",
       "    <tr>\n",
       "      <th>3</th>\n",
       "      <td>1</td>\n",
       "      <td>21</td>\n",
       "      <td>5</td>\n",
       "      <td>8</td>\n",
       "      <td>0</td>\n",
       "      <td>21</td>\n",
       "      <td>0</td>\n",
       "      <td>13</td>\n",
       "      <td>0</td>\n",
       "      <td>0</td>\n",
       "      <td>0</td>\n",
       "      <td>0</td>\n",
       "      <td>0</td>\n",
       "      <td>0</td>\n",
       "      <td>1</td>\n",
       "      <td>0</td>\n",
       "      <td>0</td>\n",
       "      <td>0</td>\n",
       "      <td>0</td>\n",
       "      <td>0</td>\n",
       "      <td>1</td>\n",
       "      <td>0</td>\n",
       "      <td>0</td>\n",
       "      <td>1</td>\n",
       "      <td>0</td>\n",
       "      <td>0</td>\n",
       "      <td>0</td>\n",
       "      <td>0</td>\n",
       "    </tr>\n",
       "    <tr>\n",
       "      <th>4</th>\n",
       "      <td>0</td>\n",
       "      <td>24</td>\n",
       "      <td>6</td>\n",
       "      <td>23</td>\n",
       "      <td>55</td>\n",
       "      <td>2</td>\n",
       "      <td>45</td>\n",
       "      <td>2</td>\n",
       "      <td>50</td>\n",
       "      <td>0</td>\n",
       "      <td>0</td>\n",
       "      <td>0</td>\n",
       "      <td>0</td>\n",
       "      <td>0</td>\n",
       "      <td>0</td>\n",
       "      <td>0</td>\n",
       "      <td>0</td>\n",
       "      <td>0</td>\n",
       "      <td>0</td>\n",
       "      <td>0</td>\n",
       "      <td>0</td>\n",
       "      <td>0</td>\n",
       "      <td>0</td>\n",
       "      <td>0</td>\n",
       "      <td>1</td>\n",
       "      <td>0</td>\n",
       "      <td>0</td>\n",
       "      <td>0</td>\n",
       "    </tr>\n",
       "  </tbody>\n",
       "</table>\n",
       "</div>"
      ],
      "text/plain": [
       "   Total_Stops  Journey_day  Journey_month  Dep_hour  Dep_min  Arrival_hour  \\\n",
       "0            1            6              6        17       30             4   \n",
       "1            1           12              5         6       20            10   \n",
       "2            1           21              5        19       15            19   \n",
       "3            1           21              5         8        0            21   \n",
       "4            0           24              6        23       55             2   \n",
       "\n",
       "   Arrival_min  Duration_hours  Duration_mins  Air India  GoAir  IndiGo  \\\n",
       "0           25              10             55          0      0       0   \n",
       "1           20               4              0          0      0       1   \n",
       "2            0              23             45          0      0       0   \n",
       "3            0              13              0          0      0       0   \n",
       "4           45               2             50          0      0       0   \n",
       "\n",
       "   Jet Airways  Jet Airways Business  Multiple carriers  \\\n",
       "0            1                     0                  0   \n",
       "1            0                     0                  0   \n",
       "2            1                     0                  0   \n",
       "3            0                     0                  1   \n",
       "4            0                     0                  0   \n",
       "\n",
       "   Multiple carriers Premium economy  SpiceJet  Vistara  \\\n",
       "0                                  0         0        0   \n",
       "1                                  0         0        0   \n",
       "2                                  0         0        0   \n",
       "3                                  0         0        0   \n",
       "4                                  0         0        0   \n",
       "\n",
       "   Vistara Premium economy  Chennai  Delhi  Kolkata  Mumbai  Cochin  Delhi  \\\n",
       "0                        0        0      1        0       0       1      0   \n",
       "1                        0        0      0        1       0       0      0   \n",
       "2                        0        0      1        0       0       1      0   \n",
       "3                        0        0      1        0       0       1      0   \n",
       "4                        0        0      0        0       0       0      1   \n",
       "\n",
       "   Hyderabad  Kolkata  New Delhi  \n",
       "0          0        0          0  \n",
       "1          0        0          0  \n",
       "2          0        0          0  \n",
       "3          0        0          0  \n",
       "4          0        0          0  "
      ]
     },
     "execution_count": 45,
     "metadata": {},
     "output_type": "execute_result"
    }
   ],
   "source": [
    "data_test.head()"
   ]
  },
  {
   "cell_type": "markdown",
   "id": "499011f7",
   "metadata": {
    "papermill": {
     "duration": 0.077981,
     "end_time": "2022-01-23T00:01:59.819344",
     "exception": false,
     "start_time": "2022-01-23T00:01:59.741363",
     "status": "completed"
    },
    "tags": []
   },
   "source": [
    "---"
   ]
  },
  {
   "cell_type": "code",
   "execution_count": 46,
   "id": "592ecdac",
   "metadata": {
    "execution": {
     "iopub.execute_input": "2022-01-23T00:02:00.299152Z",
     "iopub.status.busy": "2022-01-23T00:02:00.298520Z",
     "iopub.status.idle": "2022-01-23T00:02:00.301866Z",
     "shell.execute_reply": "2022-01-23T00:02:00.301291Z",
     "shell.execute_reply.started": "2022-01-22T23:34:51.381175Z"
    },
    "papermill": {
     "duration": 0.086049,
     "end_time": "2022-01-23T00:02:00.302005",
     "exception": false,
     "start_time": "2022-01-23T00:02:00.215956",
     "status": "completed"
    },
    "tags": []
   },
   "outputs": [
    {
     "data": {
      "text/plain": [
       "(10682, 30)"
      ]
     },
     "execution_count": 46,
     "metadata": {},
     "output_type": "execute_result"
    }
   ],
   "source": [
    "data_train.shape"
   ]
  },
  {
   "cell_type": "code",
   "execution_count": 47,
   "id": "31eac46b",
   "metadata": {
    "execution": {
     "iopub.execute_input": "2022-01-23T00:02:00.465906Z",
     "iopub.status.busy": "2022-01-23T00:02:00.465237Z",
     "iopub.status.idle": "2022-01-23T00:02:00.467887Z",
     "shell.execute_reply": "2022-01-23T00:02:00.468427Z",
     "shell.execute_reply.started": "2022-01-22T23:34:52.357676Z"
    },
    "papermill": {
     "duration": 0.086672,
     "end_time": "2022-01-23T00:02:00.468587",
     "exception": false,
     "start_time": "2022-01-23T00:02:00.381915",
     "status": "completed"
    },
    "tags": []
   },
   "outputs": [
    {
     "data": {
      "text/plain": [
       "Index(['Total_Stops', 'Price', 'Journey_day', 'Journey_month', 'Dep_hour',\n",
       "       'Dep_min', 'Arrival_hour', 'Arrival_min', 'Duration_hours',\n",
       "       'Duration_mins', 'Airline_Air India', 'Airline_GoAir', 'Airline_IndiGo',\n",
       "       'Airline_Jet Airways', 'Airline_Jet Airways Business',\n",
       "       'Airline_Multiple carriers',\n",
       "       'Airline_Multiple carriers Premium economy', 'Airline_SpiceJet',\n",
       "       'Airline_Trujet', 'Airline_Vistara', 'Airline_Vistara Premium economy',\n",
       "       'Source_Chennai', 'Source_Delhi', 'Source_Kolkata', 'Source_Mumbai',\n",
       "       'Destination_Cochin', 'Destination_Delhi', 'Destination_Hyderabad',\n",
       "       'Destination_Kolkata', 'Destination_New Delhi'],\n",
       "      dtype='object')"
      ]
     },
     "execution_count": 47,
     "metadata": {},
     "output_type": "execute_result"
    }
   ],
   "source": [
    "data_train.columns"
   ]
  },
  {
   "cell_type": "code",
   "execution_count": 48,
   "id": "3259071d",
   "metadata": {
    "execution": {
     "iopub.execute_input": "2022-01-23T00:02:00.629666Z",
     "iopub.status.busy": "2022-01-23T00:02:00.629059Z",
     "iopub.status.idle": "2022-01-23T00:02:00.647603Z",
     "shell.execute_reply": "2022-01-23T00:02:00.648185Z",
     "shell.execute_reply.started": "2022-01-22T23:34:53.531652Z"
    },
    "papermill": {
     "duration": 0.100393,
     "end_time": "2022-01-23T00:02:00.648356",
     "exception": false,
     "start_time": "2022-01-23T00:02:00.547963",
     "status": "completed"
    },
    "tags": []
   },
   "outputs": [
    {
     "data": {
      "text/html": [
       "<div>\n",
       "<style scoped>\n",
       "    .dataframe tbody tr th:only-of-type {\n",
       "        vertical-align: middle;\n",
       "    }\n",
       "\n",
       "    .dataframe tbody tr th {\n",
       "        vertical-align: top;\n",
       "    }\n",
       "\n",
       "    .dataframe thead th {\n",
       "        text-align: right;\n",
       "    }\n",
       "</style>\n",
       "<table border=\"1\" class=\"dataframe\">\n",
       "  <thead>\n",
       "    <tr style=\"text-align: right;\">\n",
       "      <th></th>\n",
       "      <th>Total_Stops</th>\n",
       "      <th>Journey_day</th>\n",
       "      <th>Journey_month</th>\n",
       "      <th>Dep_hour</th>\n",
       "      <th>Dep_min</th>\n",
       "      <th>Arrival_hour</th>\n",
       "      <th>Arrival_min</th>\n",
       "      <th>Duration_hours</th>\n",
       "      <th>Duration_mins</th>\n",
       "      <th>Airline_Air India</th>\n",
       "      <th>Airline_GoAir</th>\n",
       "      <th>Airline_IndiGo</th>\n",
       "      <th>Airline_Jet Airways</th>\n",
       "      <th>Airline_Jet Airways Business</th>\n",
       "      <th>Airline_Multiple carriers</th>\n",
       "      <th>Airline_Multiple carriers Premium economy</th>\n",
       "      <th>Airline_SpiceJet</th>\n",
       "      <th>Airline_Trujet</th>\n",
       "      <th>Airline_Vistara</th>\n",
       "      <th>Airline_Vistara Premium economy</th>\n",
       "      <th>Source_Chennai</th>\n",
       "      <th>Source_Delhi</th>\n",
       "      <th>Source_Kolkata</th>\n",
       "      <th>Source_Mumbai</th>\n",
       "      <th>Destination_Cochin</th>\n",
       "      <th>Destination_Delhi</th>\n",
       "      <th>Destination_Hyderabad</th>\n",
       "      <th>Destination_Kolkata</th>\n",
       "      <th>Destination_New Delhi</th>\n",
       "    </tr>\n",
       "  </thead>\n",
       "  <tbody>\n",
       "    <tr>\n",
       "      <th>0</th>\n",
       "      <td>0</td>\n",
       "      <td>24</td>\n",
       "      <td>3</td>\n",
       "      <td>22</td>\n",
       "      <td>20</td>\n",
       "      <td>1</td>\n",
       "      <td>10</td>\n",
       "      <td>2</td>\n",
       "      <td>50</td>\n",
       "      <td>0</td>\n",
       "      <td>0</td>\n",
       "      <td>1</td>\n",
       "      <td>0</td>\n",
       "      <td>0</td>\n",
       "      <td>0</td>\n",
       "      <td>0</td>\n",
       "      <td>0</td>\n",
       "      <td>0</td>\n",
       "      <td>0</td>\n",
       "      <td>0</td>\n",
       "      <td>0</td>\n",
       "      <td>0</td>\n",
       "      <td>0</td>\n",
       "      <td>0</td>\n",
       "      <td>0</td>\n",
       "      <td>0</td>\n",
       "      <td>0</td>\n",
       "      <td>0</td>\n",
       "      <td>1</td>\n",
       "    </tr>\n",
       "    <tr>\n",
       "      <th>1</th>\n",
       "      <td>2</td>\n",
       "      <td>1</td>\n",
       "      <td>5</td>\n",
       "      <td>5</td>\n",
       "      <td>50</td>\n",
       "      <td>13</td>\n",
       "      <td>15</td>\n",
       "      <td>7</td>\n",
       "      <td>25</td>\n",
       "      <td>1</td>\n",
       "      <td>0</td>\n",
       "      <td>0</td>\n",
       "      <td>0</td>\n",
       "      <td>0</td>\n",
       "      <td>0</td>\n",
       "      <td>0</td>\n",
       "      <td>0</td>\n",
       "      <td>0</td>\n",
       "      <td>0</td>\n",
       "      <td>0</td>\n",
       "      <td>0</td>\n",
       "      <td>0</td>\n",
       "      <td>1</td>\n",
       "      <td>0</td>\n",
       "      <td>0</td>\n",
       "      <td>0</td>\n",
       "      <td>0</td>\n",
       "      <td>0</td>\n",
       "      <td>0</td>\n",
       "    </tr>\n",
       "    <tr>\n",
       "      <th>2</th>\n",
       "      <td>2</td>\n",
       "      <td>9</td>\n",
       "      <td>6</td>\n",
       "      <td>9</td>\n",
       "      <td>25</td>\n",
       "      <td>4</td>\n",
       "      <td>25</td>\n",
       "      <td>19</td>\n",
       "      <td>0</td>\n",
       "      <td>0</td>\n",
       "      <td>0</td>\n",
       "      <td>0</td>\n",
       "      <td>1</td>\n",
       "      <td>0</td>\n",
       "      <td>0</td>\n",
       "      <td>0</td>\n",
       "      <td>0</td>\n",
       "      <td>0</td>\n",
       "      <td>0</td>\n",
       "      <td>0</td>\n",
       "      <td>0</td>\n",
       "      <td>1</td>\n",
       "      <td>0</td>\n",
       "      <td>0</td>\n",
       "      <td>1</td>\n",
       "      <td>0</td>\n",
       "      <td>0</td>\n",
       "      <td>0</td>\n",
       "      <td>0</td>\n",
       "    </tr>\n",
       "    <tr>\n",
       "      <th>3</th>\n",
       "      <td>1</td>\n",
       "      <td>12</td>\n",
       "      <td>5</td>\n",
       "      <td>18</td>\n",
       "      <td>5</td>\n",
       "      <td>23</td>\n",
       "      <td>30</td>\n",
       "      <td>5</td>\n",
       "      <td>25</td>\n",
       "      <td>0</td>\n",
       "      <td>0</td>\n",
       "      <td>1</td>\n",
       "      <td>0</td>\n",
       "      <td>0</td>\n",
       "      <td>0</td>\n",
       "      <td>0</td>\n",
       "      <td>0</td>\n",
       "      <td>0</td>\n",
       "      <td>0</td>\n",
       "      <td>0</td>\n",
       "      <td>0</td>\n",
       "      <td>0</td>\n",
       "      <td>1</td>\n",
       "      <td>0</td>\n",
       "      <td>0</td>\n",
       "      <td>0</td>\n",
       "      <td>0</td>\n",
       "      <td>0</td>\n",
       "      <td>0</td>\n",
       "    </tr>\n",
       "    <tr>\n",
       "      <th>4</th>\n",
       "      <td>1</td>\n",
       "      <td>1</td>\n",
       "      <td>3</td>\n",
       "      <td>16</td>\n",
       "      <td>50</td>\n",
       "      <td>21</td>\n",
       "      <td>35</td>\n",
       "      <td>4</td>\n",
       "      <td>45</td>\n",
       "      <td>0</td>\n",
       "      <td>0</td>\n",
       "      <td>1</td>\n",
       "      <td>0</td>\n",
       "      <td>0</td>\n",
       "      <td>0</td>\n",
       "      <td>0</td>\n",
       "      <td>0</td>\n",
       "      <td>0</td>\n",
       "      <td>0</td>\n",
       "      <td>0</td>\n",
       "      <td>0</td>\n",
       "      <td>0</td>\n",
       "      <td>0</td>\n",
       "      <td>0</td>\n",
       "      <td>0</td>\n",
       "      <td>0</td>\n",
       "      <td>0</td>\n",
       "      <td>0</td>\n",
       "      <td>1</td>\n",
       "    </tr>\n",
       "  </tbody>\n",
       "</table>\n",
       "</div>"
      ],
      "text/plain": [
       "   Total_Stops  Journey_day  Journey_month  Dep_hour  Dep_min  Arrival_hour  \\\n",
       "0            0           24              3        22       20             1   \n",
       "1            2            1              5         5       50            13   \n",
       "2            2            9              6         9       25             4   \n",
       "3            1           12              5        18        5            23   \n",
       "4            1            1              3        16       50            21   \n",
       "\n",
       "   Arrival_min  Duration_hours  Duration_mins  Airline_Air India  \\\n",
       "0           10               2             50                  0   \n",
       "1           15               7             25                  1   \n",
       "2           25              19              0                  0   \n",
       "3           30               5             25                  0   \n",
       "4           35               4             45                  0   \n",
       "\n",
       "   Airline_GoAir  Airline_IndiGo  Airline_Jet Airways  \\\n",
       "0              0               1                    0   \n",
       "1              0               0                    0   \n",
       "2              0               0                    1   \n",
       "3              0               1                    0   \n",
       "4              0               1                    0   \n",
       "\n",
       "   Airline_Jet Airways Business  Airline_Multiple carriers  \\\n",
       "0                             0                          0   \n",
       "1                             0                          0   \n",
       "2                             0                          0   \n",
       "3                             0                          0   \n",
       "4                             0                          0   \n",
       "\n",
       "   Airline_Multiple carriers Premium economy  Airline_SpiceJet  \\\n",
       "0                                          0                 0   \n",
       "1                                          0                 0   \n",
       "2                                          0                 0   \n",
       "3                                          0                 0   \n",
       "4                                          0                 0   \n",
       "\n",
       "   Airline_Trujet  Airline_Vistara  Airline_Vistara Premium economy  \\\n",
       "0               0                0                                0   \n",
       "1               0                0                                0   \n",
       "2               0                0                                0   \n",
       "3               0                0                                0   \n",
       "4               0                0                                0   \n",
       "\n",
       "   Source_Chennai  Source_Delhi  Source_Kolkata  Source_Mumbai  \\\n",
       "0               0             0               0              0   \n",
       "1               0             0               1              0   \n",
       "2               0             1               0              0   \n",
       "3               0             0               1              0   \n",
       "4               0             0               0              0   \n",
       "\n",
       "   Destination_Cochin  Destination_Delhi  Destination_Hyderabad  \\\n",
       "0                   0                  0                      0   \n",
       "1                   0                  0                      0   \n",
       "2                   1                  0                      0   \n",
       "3                   0                  0                      0   \n",
       "4                   0                  0                      0   \n",
       "\n",
       "   Destination_Kolkata  Destination_New Delhi  \n",
       "0                    0                      1  \n",
       "1                    0                      0  \n",
       "2                    0                      0  \n",
       "3                    0                      0  \n",
       "4                    0                      1  "
      ]
     },
     "execution_count": 48,
     "metadata": {},
     "output_type": "execute_result"
    }
   ],
   "source": [
    "X = data_train.loc[:, ['Total_Stops', 'Journey_day', 'Journey_month', 'Dep_hour',\n",
    "       'Dep_min', 'Arrival_hour', 'Arrival_min', 'Duration_hours',\n",
    "       'Duration_mins', 'Airline_Air India', 'Airline_GoAir', 'Airline_IndiGo',\n",
    "       'Airline_Jet Airways', 'Airline_Jet Airways Business',\n",
    "       'Airline_Multiple carriers',\n",
    "       'Airline_Multiple carriers Premium economy', 'Airline_SpiceJet',\n",
    "       'Airline_Trujet', 'Airline_Vistara', 'Airline_Vistara Premium economy',\n",
    "       'Source_Chennai', 'Source_Delhi', 'Source_Kolkata', 'Source_Mumbai',\n",
    "       'Destination_Cochin', 'Destination_Delhi', 'Destination_Hyderabad',\n",
    "       'Destination_Kolkata', 'Destination_New Delhi']]\n",
    "X.head()"
   ]
  },
  {
   "cell_type": "code",
   "execution_count": 49,
   "id": "2823dedf",
   "metadata": {
    "execution": {
     "iopub.execute_input": "2022-01-23T00:02:00.815160Z",
     "iopub.status.busy": "2022-01-23T00:02:00.814481Z",
     "iopub.status.idle": "2022-01-23T00:02:00.822098Z",
     "shell.execute_reply": "2022-01-23T00:02:00.821457Z",
     "shell.execute_reply.started": "2022-01-22T23:34:54.45867Z"
    },
    "papermill": {
     "duration": 0.09053,
     "end_time": "2022-01-23T00:02:00.822240",
     "exception": false,
     "start_time": "2022-01-23T00:02:00.731710",
     "status": "completed"
    },
    "tags": []
   },
   "outputs": [
    {
     "data": {
      "text/plain": [
       "0     3897\n",
       "1     7662\n",
       "2    13882\n",
       "3     6218\n",
       "4    13302\n",
       "Name: Price, dtype: int64"
      ]
     },
     "execution_count": 49,
     "metadata": {},
     "output_type": "execute_result"
    }
   ],
   "source": [
    "y = data_train.iloc[:, 1]\n",
    "y.head()"
   ]
  },
  {
   "cell_type": "code",
   "execution_count": 50,
   "id": "17a9f334",
   "metadata": {
    "execution": {
     "iopub.execute_input": "2022-01-23T00:02:01.155362Z",
     "iopub.status.busy": "2022-01-23T00:02:01.154613Z",
     "iopub.status.idle": "2022-01-23T00:02:01.925333Z",
     "shell.execute_reply": "2022-01-23T00:02:01.925805Z",
     "shell.execute_reply.started": "2022-01-22T23:34:55.105832Z"
    },
    "papermill": {
     "duration": 0.860252,
     "end_time": "2022-01-23T00:02:01.925981",
     "exception": false,
     "start_time": "2022-01-23T00:02:01.065729",
     "status": "completed"
    },
    "tags": []
   },
   "outputs": [
    {
     "data": {
      "image/png": "[encoded data removed]",
      "text/plain": [
       "<Figure size 1296x1296 with 2 Axes>"
      ]
     },
     "metadata": {},
     "output_type": "display_data"
    }
   ],
   "source": [
    " \n",
    "\n",
    "plt.figure(figsize = (18,18))\n",
    "sns.heatmap(train.corr(), annot = True, cmap = \"RdYlGn\")\n",
    "\n",
    "plt.show()"
   ]
  },
  {
   "cell_type": "code",
   "execution_count": 51,
   "id": "7aa48ecf",
   "metadata": {
    "execution": {
     "iopub.execute_input": "2022-01-23T00:02:02.267649Z",
     "iopub.status.busy": "2022-01-23T00:02:02.266970Z",
     "iopub.status.idle": "2022-01-23T00:02:05.533523Z",
     "shell.execute_reply": "2022-01-23T00:02:05.534214Z",
     "shell.execute_reply.started": "2022-01-22T23:39:01.634892Z"
    },
    "papermill": {
     "duration": 3.355871,
     "end_time": "2022-01-23T00:02:05.534418",
     "exception": false,
     "start_time": "2022-01-23T00:02:02.178547",
     "status": "completed"
    },
    "tags": []
   },
   "outputs": [
    {
     "data": {
      "text/plain": [
       "ExtraTreesRegressor()"
      ]
     },
     "execution_count": 51,
     "metadata": {},
     "output_type": "execute_result"
    }
   ],
   "source": [
    " \n",
    "from sklearn.ensemble import ExtraTreesRegressor\n",
    "selection = ExtraTreesRegressor()\n",
    "selection.fit(X, y)"
   ]
  },
  {
   "cell_type": "code",
   "execution_count": 52,
   "id": "baaef2a7",
   "metadata": {
    "execution": {
     "iopub.execute_input": "2022-01-23T00:02:05.879028Z",
     "iopub.status.busy": "2022-01-23T00:02:05.878059Z",
     "iopub.status.idle": "2022-01-23T00:02:05.909126Z",
     "shell.execute_reply": "2022-01-23T00:02:05.909562Z",
     "shell.execute_reply.started": "2022-01-22T23:39:05.016889Z"
    },
    "papermill": {
     "duration": 0.120332,
     "end_time": "2022-01-23T00:02:05.909781",
     "exception": false,
     "start_time": "2022-01-23T00:02:05.789449",
     "status": "completed"
    },
    "tags": []
   },
   "outputs": [
    {
     "name": "stdout",
     "output_type": "stream",
     "text": [
      "[2.19651839e-01 1.44256385e-01 5.33483648e-02 2.36142507e-02\n",
      " 2.10922223e-02 2.75442626e-02 1.98577079e-02 1.28690761e-01\n",
      " 1.82375127e-02 9.91209762e-03 2.03163940e-03 1.84581453e-02\n",
      " 1.36613330e-01 6.75935292e-02 1.89809003e-02 8.50406577e-04\n",
      " 3.03076465e-03 1.15023883e-04 5.14152915e-03 8.90347019e-05\n",
      " 5.32829001e-04 1.17468002e-02 2.96655992e-03 7.50172208e-03\n",
      " 1.03822934e-02 1.56441448e-02 6.49752544e-03 4.93881399e-04\n",
      " 2.51245367e-02]\n"
     ]
    }
   ],
   "source": [
    "print(selection.feature_importances_)"
   ]
  },
  {
   "cell_type": "markdown",
   "id": "674f2ff3",
   "metadata": {
    "papermill": {
     "duration": 0.083728,
     "end_time": "2022-01-23T00:02:06.077589",
     "exception": false,
     "start_time": "2022-01-23T00:02:05.993861",
     "status": "completed"
    },
    "tags": []
   },
   "source": [
    "The best is to plot it using a simple barh plot. As expected from the heatmap,  "
   ]
  },
  {
   "cell_type": "code",
   "execution_count": 53,
   "id": "f4851bc3",
   "metadata": {
    "execution": {
     "iopub.execute_input": "2022-01-23T00:02:06.345713Z",
     "iopub.status.busy": "2022-01-23T00:02:06.344698Z",
     "iopub.status.idle": "2022-01-23T00:02:06.710231Z",
     "shell.execute_reply": "2022-01-23T00:02:06.709784Z",
     "shell.execute_reply.started": "2022-01-22T23:39:09.849293Z"
    },
    "papermill": {
     "duration": 0.467731,
     "end_time": "2022-01-23T00:02:06.710365",
     "exception": false,
     "start_time": "2022-01-23T00:02:06.242634",
     "status": "completed"
    },
    "tags": []
   },
   "outputs": [
    {
     "data": {
      "image/png": "[encoded data removed]",
      "text/plain": [
       "<Figure size 864x576 with 1 Axes>"
      ]
     },
     "metadata": {},
     "output_type": "display_data"
    }
   ],
   "source": [
    " \n",
    "\n",
    "plt.figure(figsize = (12,8))\n",
    "feat_importances = pd.Series(selection.feature_importances_, index=X.columns)\n",
    "feat_importances.nlargest(20).plot(kind='barh')\n",
    "plt.show()\n"
   ]
  },
  {
   "cell_type": "markdown",
   "id": "c31d2010",
   "metadata": {
    "papermill": {
     "duration": 0.085903,
     "end_time": "2022-01-23T00:02:06.882898",
     "exception": false,
     "start_time": "2022-01-23T00:02:06.796995",
     "status": "completed"
    },
    "tags": []
   },
   "source": [
    "---"
   ]
  },
  {
   "cell_type": "code",
   "execution_count": 54,
   "id": "24840cf4",
   "metadata": {
    "execution": {
     "iopub.execute_input": "2022-01-23T00:02:07.231435Z",
     "iopub.status.busy": "2022-01-23T00:02:07.230534Z",
     "iopub.status.idle": "2022-01-23T00:02:07.240092Z",
     "shell.execute_reply": "2022-01-23T00:02:07.239521Z",
     "shell.execute_reply.started": "2022-01-22T23:41:42.320287Z"
    },
    "papermill": {
     "duration": 0.099114,
     "end_time": "2022-01-23T00:02:07.240241",
     "exception": false,
     "start_time": "2022-01-23T00:02:07.141127",
     "status": "completed"
    },
    "tags": []
   },
   "outputs": [],
   "source": [
    "from sklearn.model_selection import train_test_split\n",
    "X_train, X_test, y_train, y_test = train_test_split(X, y, test_size = 0.2, random_state = 42)"
   ]
  },
  {
   "cell_type": "code",
   "execution_count": 55,
   "id": "8da46552",
   "metadata": {
    "execution": {
     "iopub.execute_input": "2022-01-23T00:02:07.420459Z",
     "iopub.status.busy": "2022-01-23T00:02:07.419825Z",
     "iopub.status.idle": "2022-01-23T00:02:11.387828Z",
     "shell.execute_reply": "2022-01-23T00:02:11.388254Z",
     "shell.execute_reply.started": "2022-01-22T23:41:43.000688Z"
    },
    "papermill": {
     "duration": 4.061152,
     "end_time": "2022-01-23T00:02:11.388431",
     "exception": false,
     "start_time": "2022-01-23T00:02:07.327279",
     "status": "completed"
    },
    "tags": []
   },
   "outputs": [
    {
     "data": {
      "text/plain": [
       "XGBRegressor(base_score=0.5, booster='gbtree', colsample_bylevel=1,\n",
       "             colsample_bynode=1, colsample_bytree=1, enable_categorical=False,\n",
       "             gamma=0, gpu_id=-1, importance_type=None,\n",
       "             interaction_constraints='', learning_rate=0.300000012,\n",
       "             max_delta_step=0, max_depth=6, min_child_weight=1, missing=nan,\n",
       "             monotone_constraints='()', n_estimators=100, n_jobs=4,\n",
       "             num_parallel_tree=1, predictor='auto', random_state=0, reg_alpha=0,\n",
       "             reg_lambda=1, scale_pos_weight=1, subsample=1, tree_method='exact',\n",
       "             validate_parameters=1, verbosity=None)"
      ]
     },
     "execution_count": 55,
     "metadata": {},
     "output_type": "execute_result"
    }
   ],
   "source": [
    "from xgboost import XGBRegressor \n",
    "from sklearn.ensemble import RandomForestRegressor\n",
    "\n",
    "reg_rf = RandomForestRegressor()\n",
    "xgboost_model = XGBRegressor()\n",
    "\n",
    "reg_rf.fit(X_train, y_train)\n",
    "xgboost_model.fit(X_train, y_train)"
   ]
  },
  {
   "cell_type": "code",
   "execution_count": 56,
   "id": "080e68b0",
   "metadata": {
    "execution": {
     "iopub.execute_input": "2022-01-23T00:02:11.568814Z",
     "iopub.status.busy": "2022-01-23T00:02:11.568170Z",
     "iopub.status.idle": "2022-01-23T00:02:11.642931Z",
     "shell.execute_reply": "2022-01-23T00:02:11.643432Z",
     "shell.execute_reply.started": "2022-01-22T23:41:52.363469Z"
    },
    "papermill": {
     "duration": 0.167656,
     "end_time": "2022-01-23T00:02:11.643634",
     "exception": false,
     "start_time": "2022-01-23T00:02:11.475978",
     "status": "completed"
    },
    "tags": []
   },
   "outputs": [],
   "source": [
    "y_pred_reg_rf = reg_rf.predict(X_test)\n",
    "y_pred_xgboost = xgboost_model.predict(X_test)"
   ]
  },
  {
   "cell_type": "code",
   "execution_count": 57,
   "id": "10926f39",
   "metadata": {
    "execution": {
     "iopub.execute_input": "2022-01-23T00:02:11.823827Z",
     "iopub.status.busy": "2022-01-23T00:02:11.822822Z",
     "iopub.status.idle": "2022-01-23T00:02:12.032326Z",
     "shell.execute_reply": "2022-01-23T00:02:12.031807Z",
     "shell.execute_reply.started": "2022-01-22T23:41:54.342192Z"
    },
    "papermill": {
     "duration": 0.302143,
     "end_time": "2022-01-23T00:02:12.032469",
     "exception": false,
     "start_time": "2022-01-23T00:02:11.730326",
     "status": "completed"
    },
    "tags": []
   },
   "outputs": [
    {
     "name": "stdout",
     "output_type": "stream",
     "text": [
      "0.953895242292235\n",
      "0.9353790824683148\n"
     ]
    }
   ],
   "source": [
    "print(reg_rf.score(X_train, y_train))\n",
    "print(xgboost_model.score(X_train, y_train))"
   ]
  },
  {
   "cell_type": "code",
   "execution_count": 58,
   "id": "bd292327",
   "metadata": {
    "execution": {
     "iopub.execute_input": "2022-01-23T00:02:12.213723Z",
     "iopub.status.busy": "2022-01-23T00:02:12.212785Z",
     "iopub.status.idle": "2022-01-23T00:02:12.293147Z",
     "shell.execute_reply": "2022-01-23T00:02:12.292586Z",
     "shell.execute_reply.started": "2022-01-22T23:41:59.154258Z"
    },
    "papermill": {
     "duration": 0.173531,
     "end_time": "2022-01-23T00:02:12.293290",
     "exception": false,
     "start_time": "2022-01-23T00:02:12.119759",
     "status": "completed"
    },
    "tags": []
   },
   "outputs": [
    {
     "name": "stdout",
     "output_type": "stream",
     "text": [
      "1.0\n",
      "1.0\n"
     ]
    }
   ],
   "source": [
    "print(reg_rf.score(X_test, y_pred_reg_rf))\n",
    "print(xgboost_model.score(X_test, y_pred_xgboost))"
   ]
  },
  {
   "cell_type": "markdown",
   "id": "a3631638",
   "metadata": {
    "papermill": {
     "duration": 0.087799,
     "end_time": "2022-01-23T00:02:12.469042",
     "exception": false,
     "start_time": "2022-01-23T00:02:12.381243",
     "status": "completed"
    },
    "tags": []
   },
   "source": [
    " "
   ]
  },
  {
   "cell_type": "code",
   "execution_count": 59,
   "id": "2e32225a",
   "metadata": {
    "execution": {
     "iopub.execute_input": "2022-01-23T00:02:12.648982Z",
     "iopub.status.busy": "2022-01-23T00:02:12.647082Z",
     "iopub.status.idle": "2022-01-23T00:02:12.989973Z",
     "shell.execute_reply": "2022-01-23T00:02:12.990401Z",
     "shell.execute_reply.started": "2022-01-22T23:42:00.887612Z"
    },
    "papermill": {
     "duration": 0.433459,
     "end_time": "2022-01-23T00:02:12.990574",
     "exception": false,
     "start_time": "2022-01-23T00:02:12.557115",
     "status": "completed"
    },
    "tags": []
   },
   "outputs": [
    {
     "name": "stderr",
     "output_type": "stream",
     "text": [
      "C:\\ProgramData\\Anaconda3\\lib\\site-packages\\seaborn\\distributions.py:2557: FutureWarning: `distplot` is a deprecated function and will be removed in a future version. Please adapt your code to use either `displot` (a figure-level function with similar flexibility) or `histplot` (an axes-level function for histograms).\n",
      "  warnings.warn(msg, FutureWarning)\n"
     ]
    },
    {
     "data": {
      "image/png": "[encoded data removed]",
      "text/plain": [
       "<Figure size 432x288 with 1 Axes>"
      ]
     },
     "metadata": {},
     "output_type": "display_data"
    }
   ],
   "source": [
    "sns.distplot(y_test-y_pred_reg_rf)\n",
    "plt.show()"
   ]
  },
  {
   "cell_type": "code",
   "execution_count": 60,
   "id": "83ed563c",
   "metadata": {
    "execution": {
     "iopub.execute_input": "2022-01-23T00:02:13.201112Z",
     "iopub.status.busy": "2022-01-23T00:02:13.200179Z",
     "iopub.status.idle": "2022-01-23T00:02:13.564769Z",
     "shell.execute_reply": "2022-01-23T00:02:13.565473Z",
     "shell.execute_reply.started": "2022-01-22T23:42:06.816481Z"
    },
    "papermill": {
     "duration": 0.487596,
     "end_time": "2022-01-23T00:02:13.565713",
     "exception": false,
     "start_time": "2022-01-23T00:02:13.078117",
     "status": "completed"
    },
    "tags": []
   },
   "outputs": [
    {
     "name": "stderr",
     "output_type": "stream",
     "text": [
      "C:\\ProgramData\\Anaconda3\\lib\\site-packages\\seaborn\\distributions.py:2557: FutureWarning: `distplot` is a deprecated function and will be removed in a future version. Please adapt your code to use either `displot` (a figure-level function with similar flexibility) or `histplot` (an axes-level function for histograms).\n",
      "  warnings.warn(msg, FutureWarning)\n"
     ]
    },
    {
     "data": {
      "image/png": "[encoded data removed]",
      "text/plain": [
       "<Figure size 432x288 with 1 Axes>"
      ]
     },
     "metadata": {},
     "output_type": "display_data"
    }
   ],
   "source": [
    "sns.distplot(y_test-y_pred_xgboost)\n",
    "plt.show()"
   ]
  },
  {
   "cell_type": "markdown",
   "id": "b7721e51",
   "metadata": {
    "papermill": {
     "duration": 0.092492,
     "end_time": "2022-01-23T00:02:13.941996",
     "exception": false,
     "start_time": "2022-01-23T00:02:13.849504",
     "status": "completed"
    },
    "tags": []
   },
   "source": [
    " "
   ]
  },
  {
   "cell_type": "code",
   "execution_count": 61,
   "id": "1c04b70f",
   "metadata": {
    "execution": {
     "iopub.execute_input": "2022-01-23T00:02:14.130325Z",
     "iopub.status.busy": "2022-01-23T00:02:14.129326Z",
     "iopub.status.idle": "2022-01-23T00:02:14.357031Z",
     "shell.execute_reply": "2022-01-23T00:02:14.357477Z",
     "shell.execute_reply.started": "2022-01-22T23:42:28.86401Z"
    },
    "papermill": {
     "duration": 0.323512,
     "end_time": "2022-01-23T00:02:14.357639",
     "exception": false,
     "start_time": "2022-01-23T00:02:14.034127",
     "status": "completed"
    },
    "tags": []
   },
   "outputs": [
    {
     "data": {
      "image/png": "[encoded data removed]",
      "text/plain": [
       "<Figure size 432x288 with 1 Axes>"
      ]
     },
     "metadata": {},
     "output_type": "display_data"
    }
   ],
   "source": [
    "plt.scatter(y_test, y_pred_reg_rf, alpha = 0.5)\n",
    "plt.xlabel(\"y_test\")\n",
    "plt.ylabel(\"y_pred\")\n",
    "plt.show()"
   ]
  },
  {
   "cell_type": "code",
   "execution_count": 62,
   "id": "63387bcb",
   "metadata": {
    "execution": {
     "iopub.execute_input": "2022-01-23T00:02:14.541454Z",
     "iopub.status.busy": "2022-01-23T00:02:14.540499Z",
     "iopub.status.idle": "2022-01-23T00:02:14.786123Z",
     "shell.execute_reply": "2022-01-23T00:02:14.786612Z",
     "shell.execute_reply.started": "2022-01-22T23:42:30.124424Z"
    },
    "papermill": {
     "duration": 0.339049,
     "end_time": "2022-01-23T00:02:14.786846",
     "exception": false,
     "start_time": "2022-01-23T00:02:14.447797",
     "status": "completed"
    },
    "tags": []
   },
   "outputs": [
    {
     "data": {
      "image/png": "[encoded data removed]",
      "text/plain": [
       "<Figure size 432x288 with 1 Axes>"
      ]
     },
     "metadata": {},
     "output_type": "display_data"
    }
   ],
   "source": [
    "plt.scatter(y_test, y_pred_xgboost, alpha = 0.5)\n",
    "plt.xlabel(\"y_test\")\n",
    "plt.ylabel(\"y_pred\")\n",
    "plt.show()"
   ]
  },
  {
   "cell_type": "markdown",
   "id": "a5404e31",
   "metadata": {
    "papermill": {
     "duration": 0.09245,
     "end_time": "2022-01-23T00:02:15.152088",
     "exception": false,
     "start_time": "2022-01-23T00:02:15.059638",
     "status": "completed"
    },
    "tags": []
   },
   "source": [
    " "
   ]
  },
  {
   "cell_type": "code",
   "execution_count": 63,
   "id": "a2368210",
   "metadata": {
    "execution": {
     "iopub.execute_input": "2022-01-23T00:02:15.336718Z",
     "iopub.status.busy": "2022-01-23T00:02:15.335781Z",
     "iopub.status.idle": "2022-01-23T00:02:15.339210Z",
     "shell.execute_reply": "2022-01-23T00:02:15.339788Z",
     "shell.execute_reply.started": "2022-01-22T23:44:29.189739Z"
    },
    "papermill": {
     "duration": 0.097421,
     "end_time": "2022-01-23T00:02:15.339952",
     "exception": false,
     "start_time": "2022-01-23T00:02:15.242531",
     "status": "completed"
    },
    "tags": []
   },
   "outputs": [],
   "source": [
    "from sklearn import metrics"
   ]
  },
  {
   "cell_type": "code",
   "execution_count": 64,
   "id": "7d8783bd",
   "metadata": {
    "execution": {
     "iopub.execute_input": "2022-01-23T00:02:15.525296Z",
     "iopub.status.busy": "2022-01-23T00:02:15.524363Z",
     "iopub.status.idle": "2022-01-23T00:02:15.535861Z",
     "shell.execute_reply": "2022-01-23T00:02:15.536370Z",
     "shell.execute_reply.started": "2022-01-22T23:44:57.310212Z"
    },
    "papermill": {
     "duration": 0.105789,
     "end_time": "2022-01-23T00:02:15.536532",
     "exception": false,
     "start_time": "2022-01-23T00:02:15.430743",
     "status": "completed"
    },
    "tags": []
   },
   "outputs": [
    {
     "name": "stdout",
     "output_type": "stream",
     "text": [
      "RandomForest\n",
      "MAE: 1181.3124614263836\n",
      "MSE: 4402751.587099175\n",
      "RMSE: 2098.2734776713864\n",
      "XGBoost\n",
      "MAE: 1135.7739136142043\n",
      "MSE: 3313395.5274770306\n",
      "RMSE: 1820.2734760131596\n"
     ]
    }
   ],
   "source": [
    "print('RandomForest')\n",
    "print('MAE:', metrics.mean_absolute_error(y_test, y_pred_reg_rf))\n",
    "print('MSE:', metrics.mean_squared_error(y_test, y_pred_reg_rf))\n",
    "print('RMSE:', np.sqrt(metrics.mean_squared_error(y_test, y_pred_reg_rf)))\n",
    "\n",
    "print('XGBoost')\n",
    "print('MAE:', metrics.mean_absolute_error(y_test, y_pred_xgboost))\n",
    "print('MSE:', metrics.mean_squared_error(y_test, y_pred_xgboost))\n",
    "print('RMSE:', np.sqrt(metrics.mean_squared_error(y_test, y_pred_xgboost)))"
   ]
  },
  {
   "cell_type": "code",
   "execution_count": 65,
   "id": "3920d383",
   "metadata": {
    "execution": {
     "iopub.execute_input": "2022-01-23T00:02:15.722760Z",
     "iopub.status.busy": "2022-01-23T00:02:15.721814Z",
     "iopub.status.idle": "2022-01-23T00:02:15.727776Z",
     "shell.execute_reply": "2022-01-23T00:02:15.728273Z",
     "shell.execute_reply.started": "2022-01-22T23:45:33.290863Z"
    },
    "papermill": {
     "duration": 0.101849,
     "end_time": "2022-01-23T00:02:15.728446",
     "exception": false,
     "start_time": "2022-01-23T00:02:15.626597",
     "status": "completed"
    },
    "tags": []
   },
   "outputs": [
    {
     "data": {
      "text/plain": [
       "0.7958102176847769"
      ]
     },
     "execution_count": 65,
     "metadata": {},
     "output_type": "execute_result"
    }
   ],
   "source": [
    "metrics.r2_score(y_test, y_pred_reg_rf)"
   ]
  },
  {
   "cell_type": "code",
   "execution_count": 66,
   "id": "85766a06",
   "metadata": {
    "execution": {
     "iopub.execute_input": "2022-01-23T00:02:15.914701Z",
     "iopub.status.busy": "2022-01-23T00:02:15.913497Z",
     "iopub.status.idle": "2022-01-23T00:02:15.919440Z",
     "shell.execute_reply": "2022-01-23T00:02:15.919899Z",
     "shell.execute_reply.started": "2022-01-22T23:45:33.693263Z"
    },
    "papermill": {
     "duration": 0.100512,
     "end_time": "2022-01-23T00:02:15.920079",
     "exception": false,
     "start_time": "2022-01-23T00:02:15.819567",
     "status": "completed"
    },
    "tags": []
   },
   "outputs": [
    {
     "data": {
      "text/plain": [
       "0.8463321179731759"
      ]
     },
     "execution_count": 66,
     "metadata": {},
     "output_type": "execute_result"
    }
   ],
   "source": [
    "metrics.r2_score(y_test, y_pred_xgboost)"
   ]
  },
  {
   "cell_type": "markdown",
   "id": "71cb9d10",
   "metadata": {
    "papermill": {
     "duration": 0.091435,
     "end_time": "2022-01-23T00:02:16.289140",
     "exception": false,
     "start_time": "2022-01-23T00:02:16.197705",
     "status": "completed"
    },
    "tags": []
   },
   "source": [
    "---"
   ]
  },
  {
   "cell_type": "markdown",
   "id": "82ed3e3b",
   "metadata": {
    "papermill": {
     "duration": null,
     "end_time": null,
     "exception": null,
     "start_time": null,
     "status": "pending"
    },
    "tags": []
   },
   "source": [
    "---"
   ]
  }
 ],
 "metadata": {
  "kernelspec": {
   "display_name": "Python 3",
   "language": "python",
   "name": "python3"
  },
  "language_info": {
   "codemirror_mode": {
    "name": "ipython",
    "version": 3
   },
   "file_extension": ".py",
   "mimetype": "text/x-python",
   "name": "python",
   "nbconvert_exporter": "python",
   "pygments_lexer": "ipython3",
   "version": "3.8.8"
  },
  "papermill": {
   "default_parameters": {},
   "duration": 110.700143,
   "end_time": "2022-01-23T00:03:15.231386",
   "environment_variables": {},
   "exception": true,
   "input_path": "__notebook__.ipynb",
   "output_path": "__notebook__.ipynb",
   "parameters": {},
   "start_time": "2022-01-23T00:01:24.531243",
   "version": "2.3.3"
  }
 },
 "nbformat": 4,
 "nbformat_minor": 5
}
